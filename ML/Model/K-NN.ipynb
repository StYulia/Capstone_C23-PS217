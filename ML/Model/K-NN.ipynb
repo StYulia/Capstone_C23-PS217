{
  "cells": [
    {
      "cell_type": "code",
      "execution_count": 1,
      "metadata": {
        "id": "Ikyr75g0xJI_"
      },
      "outputs": [],
      "source": [
        "import pandas as pd\n",
        "from sklearn.feature_extraction.text import TfidfVectorizer\n",
        "from sklearn.metrics.pairwise import linear_kernel"
      ]
    },
    {
      "cell_type": "code",
      "execution_count": 2,
      "metadata": {
        "id": "91d_swIGxbpp"
      },
      "outputs": [],
      "source": [
        "data = pd.read_csv('mergedata.csv')"
      ]
    },
    {
      "cell_type": "code",
      "execution_count": 3,
      "metadata": {
        "colab": {
          "base_uri": "https://localhost:8080/",
          "height": 409
        },
        "id": "ceRZbH5Pxg7s",
        "outputId": "124a39c6-e4ff-415f-b798-f8f789c4c1f5"
      },
      "outputs": [
        {
          "data": {
            "text/html": [
              "<div>\n",
              "<style scoped>\n",
              "    .dataframe tbody tr th:only-of-type {\n",
              "        vertical-align: middle;\n",
              "    }\n",
              "\n",
              "    .dataframe tbody tr th {\n",
              "        vertical-align: top;\n",
              "    }\n",
              "\n",
              "    .dataframe thead th {\n",
              "        text-align: right;\n",
              "    }\n",
              "</style>\n",
              "<table border=\"1\" class=\"dataframe\">\n",
              "  <thead>\n",
              "    <tr style=\"text-align: right;\">\n",
              "      <th></th>\n",
              "      <th>Usia_kandungan</th>\n",
              "      <th>Usia_ibu</th>\n",
              "      <th>Tinggi_badan</th>\n",
              "      <th>Berat_badan</th>\n",
              "      <th>Nama_Pangan</th>\n",
              "      <th>air(g)</th>\n",
              "      <th>Energi(Kal)</th>\n",
              "      <th>Protein(g)</th>\n",
              "      <th>Lemak(g)</th>\n",
              "      <th>Karbohidrat(g)</th>\n",
              "      <th>Kalsium(mg)</th>\n",
              "      <th>Fosfor(mg)</th>\n",
              "      <th>Vit_B1(mg)</th>\n",
              "      <th>Vit_B2(mg)</th>\n",
              "      <th>Vit_C(mg)</th>\n",
              "    </tr>\n",
              "  </thead>\n",
              "  <tbody>\n",
              "    <tr>\n",
              "      <th>0</th>\n",
              "      <td>284</td>\n",
              "      <td>27</td>\n",
              "      <td>62</td>\n",
              "      <td>100</td>\n",
              "      <td>Bayam ,rebus</td>\n",
              "      <td>93.5</td>\n",
              "      <td>23.0</td>\n",
              "      <td>1.2</td>\n",
              "      <td>0.6</td>\n",
              "      <td>3.7</td>\n",
              "      <td>150.0</td>\n",
              "      <td>35.0</td>\n",
              "      <td>0.02</td>\n",
              "      <td>0.10</td>\n",
              "      <td>19.0</td>\n",
              "    </tr>\n",
              "    <tr>\n",
              "      <th>1</th>\n",
              "      <td>282</td>\n",
              "      <td>33</td>\n",
              "      <td>64</td>\n",
              "      <td>135</td>\n",
              "      <td>Buncis, rebus</td>\n",
              "      <td>90.6</td>\n",
              "      <td>30.0</td>\n",
              "      <td>2.2</td>\n",
              "      <td>0.2</td>\n",
              "      <td>6.4</td>\n",
              "      <td>107.0</td>\n",
              "      <td>47.0</td>\n",
              "      <td>0.01</td>\n",
              "      <td>0.29</td>\n",
              "      <td>8.0</td>\n",
              "    </tr>\n",
              "    <tr>\n",
              "      <th>2</th>\n",
              "      <td>279</td>\n",
              "      <td>28</td>\n",
              "      <td>64</td>\n",
              "      <td>115</td>\n",
              "      <td>Daun kacang panjang, kukus</td>\n",
              "      <td>87.2</td>\n",
              "      <td>40.0</td>\n",
              "      <td>3.7</td>\n",
              "      <td>0.3</td>\n",
              "      <td>8.0</td>\n",
              "      <td>111.0</td>\n",
              "      <td>66.0</td>\n",
              "      <td>0.15</td>\n",
              "      <td>0.20</td>\n",
              "      <td>11.0</td>\n",
              "    </tr>\n",
              "    <tr>\n",
              "      <th>3</th>\n",
              "      <td>282</td>\n",
              "      <td>23</td>\n",
              "      <td>67</td>\n",
              "      <td>125</td>\n",
              "      <td>Daun singkong, rebus</td>\n",
              "      <td>90.5</td>\n",
              "      <td>31.0</td>\n",
              "      <td>3.7</td>\n",
              "      <td>0.6</td>\n",
              "      <td>4.8</td>\n",
              "      <td>160.0</td>\n",
              "      <td>50.0</td>\n",
              "      <td>0.02</td>\n",
              "      <td>0.10</td>\n",
              "      <td>34.0</td>\n",
              "    </tr>\n",
              "    <tr>\n",
              "      <th>4</th>\n",
              "      <td>286</td>\n",
              "      <td>25</td>\n",
              "      <td>62</td>\n",
              "      <td>93</td>\n",
              "      <td>Daun talas, rebus</td>\n",
              "      <td>91.6</td>\n",
              "      <td>27.0</td>\n",
              "      <td>1.3</td>\n",
              "      <td>0.2</td>\n",
              "      <td>5.9</td>\n",
              "      <td>119.0</td>\n",
              "      <td>41.0</td>\n",
              "      <td>0.00</td>\n",
              "      <td>0.60</td>\n",
              "      <td>7.0</td>\n",
              "    </tr>\n",
              "  </tbody>\n",
              "</table>\n",
              "</div>"
            ],
            "text/plain": [
              "   Usia_kandungan  Usia_ibu  Tinggi_badan  Berat_badan  \\\n",
              "0             284        27            62          100   \n",
              "1             282        33            64          135   \n",
              "2             279        28            64          115   \n",
              "3             282        23            67          125   \n",
              "4             286        25            62           93   \n",
              "\n",
              "                  Nama_Pangan  air(g)  Energi(Kal)  Protein(g)  Lemak(g)  \\\n",
              "0                Bayam ,rebus    93.5         23.0         1.2       0.6   \n",
              "1               Buncis, rebus    90.6         30.0         2.2       0.2   \n",
              "2  Daun kacang panjang, kukus    87.2         40.0         3.7       0.3   \n",
              "3        Daun singkong, rebus    90.5         31.0         3.7       0.6   \n",
              "4           Daun talas, rebus    91.6         27.0         1.3       0.2   \n",
              "\n",
              "   Karbohidrat(g)  Kalsium(mg)  Fosfor(mg)  Vit_B1(mg)  Vit_B2(mg)  Vit_C(mg)  \n",
              "0             3.7        150.0        35.0        0.02        0.10       19.0  \n",
              "1             6.4        107.0        47.0        0.01        0.29        8.0  \n",
              "2             8.0        111.0        66.0        0.15        0.20       11.0  \n",
              "3             4.8        160.0        50.0        0.02        0.10       34.0  \n",
              "4             5.9        119.0        41.0        0.00        0.60        7.0  "
            ]
          },
          "execution_count": 3,
          "metadata": {},
          "output_type": "execute_result"
        }
      ],
      "source": [
        "data.head()"
      ]
    },
    {
      "cell_type": "code",
      "execution_count": 4,
      "metadata": {
        "colab": {
          "base_uri": "https://localhost:8080/"
        },
        "id": "I_vvq498zNuf",
        "outputId": "cdff33e8-8924-4791-ec78-dbdf91b9ff5b"
      },
      "outputs": [
        {
          "name": "stdout",
          "output_type": "stream",
          "text": [
            "<class 'pandas.core.frame.DataFrame'>\n",
            "RangeIndex: 1184 entries, 0 to 1183\n",
            "Data columns (total 15 columns):\n",
            " #   Column          Non-Null Count  Dtype  \n",
            "---  ------          --------------  -----  \n",
            " 0   Usia_kandungan  1184 non-null   int64  \n",
            " 1   Usia_ibu        1184 non-null   int64  \n",
            " 2   Tinggi_badan    1184 non-null   int64  \n",
            " 3   Berat_badan     1184 non-null   int64  \n",
            " 4   Nama_Pangan     1184 non-null   object \n",
            " 5   air(g)          1184 non-null   float64\n",
            " 6   Energi(Kal)     1184 non-null   float64\n",
            " 7   Protein(g)      1184 non-null   float64\n",
            " 8   Lemak(g)        1184 non-null   float64\n",
            " 9   Karbohidrat(g)  1184 non-null   float64\n",
            " 10  Kalsium(mg)     1184 non-null   float64\n",
            " 11  Fosfor(mg)      1184 non-null   float64\n",
            " 12  Vit_B1(mg)      1184 non-null   float64\n",
            " 13  Vit_B2(mg)      1184 non-null   float64\n",
            " 14  Vit_C(mg)       1184 non-null   float64\n",
            "dtypes: float64(10), int64(4), object(1)\n",
            "memory usage: 138.9+ KB\n"
          ]
        }
      ],
      "source": [
        "data.info()"
      ]
    },
    {
      "cell_type": "code",
      "execution_count": 5,
      "metadata": {
        "colab": {
          "base_uri": "https://localhost:8080/"
        },
        "id": "XT47vVeI1WpH",
        "outputId": "93908617-fda3-480b-bcdc-335da77921b9"
      },
      "outputs": [
        {
          "data": {
            "text/plain": [
              "Usia_kandungan    0\n",
              "Usia_ibu          0\n",
              "Tinggi_badan      0\n",
              "Berat_badan       0\n",
              "Nama_Pangan       0\n",
              "air(g)            0\n",
              "Energi(Kal)       0\n",
              "Protein(g)        0\n",
              "Lemak(g)          0\n",
              "Karbohidrat(g)    0\n",
              "Kalsium(mg)       0\n",
              "Fosfor(mg)        0\n",
              "Vit_B1(mg)        0\n",
              "Vit_B2(mg)        0\n",
              "Vit_C(mg)         0\n",
              "dtype: int64"
            ]
          },
          "execution_count": 5,
          "metadata": {},
          "output_type": "execute_result"
        }
      ],
      "source": [
        "data.isnull().sum()"
      ]
    },
    {
      "cell_type": "markdown",
      "metadata": {
        "id": "7T587P-x2oTd"
      },
      "source": [
        "## **KNN**"
      ]
    },
    {
      "cell_type": "code",
      "execution_count": 6,
      "metadata": {
        "id": "p-RjtRVB2qHO"
      },
      "outputs": [],
      "source": [
        "from sklearn.neighbors import NearestNeighbors\n"
      ]
    },
    {
      "cell_type": "code",
      "execution_count": 7,
      "metadata": {},
      "outputs": [],
      "source": [
        "features = ['Tinggi_badan', 'Berat_badan', 'Usia_kandungan', 'Usia_ibu', 'Nama_Pangan']\n",
        "data_subset = data[features]"
      ]
    },
    {
      "cell_type": "code",
      "execution_count": 8,
      "metadata": {
        "id": "lwQfrQsw2uQQ"
      },
      "outputs": [],
      "source": [
        "features = ['Tinggi_badan', 'Berat_badan', 'Usia_kandungan', 'Usia_ibu', 'Nama_Pangan']\n",
        "data_subset = data[features].copy()\n",
        "data_subset.fillna(0, inplace=True)  # Mengganti missing values dengan nilai 0 jika diperlukan\n"
      ]
    },
    {
      "cell_type": "code",
      "execution_count": 9,
      "metadata": {
        "id": "Fo3v__9K2viu"
      },
      "outputs": [],
      "source": [
        "data_subset['Nama_Pangan'] = data_subset['Nama_Pangan'].astype('category')\n",
        "data_subset['Nama_Pangan'] = data_subset['Nama_Pangan'].cat.codes\n"
      ]
    },
    {
      "cell_type": "markdown",
      "metadata": {
        "id": "wU4Kehd23w-J"
      },
      "source": [
        "###**Inisialisasi model KNN dan melatih model**"
      ]
    },
    {
      "cell_type": "code",
      "execution_count": 10,
      "metadata": {
        "colab": {
          "base_uri": "https://localhost:8080/",
          "height": 75
        },
        "id": "HisLbKdd2zB-",
        "outputId": "484da6b5-1930-46f6-9113-faf1e1a79c43"
      },
      "outputs": [
        {
          "data": {
            "text/plain": [
              "NearestNeighbors()"
            ]
          },
          "execution_count": 10,
          "metadata": {},
          "output_type": "execute_result"
        }
      ],
      "source": [
        "k = 5  # Nilai K, yaitu jumlah tetangga terdekat yang akan digunakan\n",
        "knn = NearestNeighbors(n_neighbors=k)\n",
        "knn.fit(data_subset)\n"
      ]
    },
    {
      "cell_type": "code",
      "execution_count": null,
      "metadata": {
        "colab": {
          "base_uri": "https://localhost:8080/"
        },
        "id": "eqWXALCq238l",
        "outputId": "7bc62ba7-784e-45ed-ef32-03918167430b"
      },
      "outputs": [],
      "source": [
        "user_input = [150, 60, 24, 20, 10]  # Contoh input pengguna\n",
        "user_input = pd.DataFrame([user_input])  # Ubah input pengguna menjadi DataFrame\n",
        "distances, indices = knn.kneighbors(user_input)\n"
      ]
    },
    {
      "cell_type": "code",
      "execution_count": 27,
      "metadata": {
        "id": "HkICL9EJ3Ay2"
      },
      "outputs": [],
      "source": [
        "recommended_food = data.loc[indices[0], 'Nama_Pangan']\n"
      ]
    },
    {
      "cell_type": "code",
      "execution_count": 25,
      "metadata": {
        "colab": {
          "base_uri": "https://localhost:8080/"
        },
        "id": "-MmFNJI13D6g",
        "outputId": "a23aa0af-a8f2-45db-f69f-c24229eab3e0"
      },
      "outputs": [
        {
          "name": "stdout",
          "output_type": "stream",
          "text": [
            "598    Ayam goreng Kentucky,sayap\n",
            "470           Beras menir, mentah\n",
            "603    Ayam goreng sukabumi, dada\n",
            "454              Apang kukus, kue\n",
            "892                             0\n",
            "Name: Nama_Pangan, dtype: object\n"
          ]
        }
      ],
      "source": [
        "print(recommended_food)"
      ]
    },
    {
      "cell_type": "code",
      "execution_count": 18,
      "metadata": {},
      "outputs": [],
      "source": [
        "import pickle\n",
        "# Simpan model ke dalam file\n",
        "with open('knn.h5', 'wb') as file:\n",
        "    pickle.dump(knn, file)"
      ]
    },
    {
      "cell_type": "code",
      "execution_count": 20,
      "metadata": {},
      "outputs": [],
      "source": [
        "num_classes = data['Nama_Pangan'].nunique()\n"
      ]
    },
    {
      "cell_type": "code",
      "execution_count": 21,
      "metadata": {},
      "outputs": [
        {
          "name": "stdout",
          "output_type": "stream",
          "text": [
            "1109\n"
          ]
        }
      ],
      "source": [
        "print(num_classes)"
      ]
    },
    {
      "cell_type": "code",
      "execution_count": 22,
      "metadata": {},
      "outputs": [],
      "source": [
        "# Buat model TensorFlow\n",
        "import tensorflow as tf\n",
        "\n",
        "input_dim = 4  # Ganti dengan dimensi input yang sesuai\n",
        "num_classes = 1109  # Ganti dengan jumlah kelas yang sesuai\n",
        "\n",
        "model = tf.keras.Sequential()\n",
        "model.add(tf.keras.layers.Dense(input_dim, activation='relu'))\n",
        "model.add(tf.keras.layers.Dense(num_classes, activation='softmax'))\n",
        "\n",
        "\n"
      ]
    },
    {
      "cell_type": "code",
      "execution_count": 25,
      "metadata": {},
      "outputs": [
        {
          "name": "stdout",
          "output_type": "stream",
          "text": [
            "INFO:tensorflow:Assets written to: C:\\Users\\ASUS\\AppData\\Local\\Temp\\tmpvpzx9tix\\assets\n"
          ]
        },
        {
          "name": "stderr",
          "output_type": "stream",
          "text": [
            "INFO:tensorflow:Assets written to: C:\\Users\\ASUS\\AppData\\Local\\Temp\\tmpvpzx9tix\\assets\n"
          ]
        }
      ],
      "source": [
        "input_shape = (None, input_dim)  # Bentuk masukan (batch_size, input_dim)\n",
        "model.build(input_shape)\n",
        "\n",
        "converter = tf.lite.TFLiteConverter.from_keras_model(model)\n",
        "tflite_model = converter.convert()\n",
        "\n"
      ]
    },
    {
      "cell_type": "code",
      "execution_count": 26,
      "metadata": {},
      "outputs": [],
      "source": [
        "with open('model.tflite', 'wb') as file:\n",
        "    file.write(tflite_model)\n"
      ]
    }
  ],
  "metadata": {
    "colab": {
      "provenance": []
    },
    "kernelspec": {
      "display_name": "Python 3.9.7 64-bit",
      "language": "python",
      "name": "python3"
    },
    "language_info": {
      "codemirror_mode": {
        "name": "ipython",
        "version": 3
      },
      "file_extension": ".py",
      "mimetype": "text/x-python",
      "name": "python",
      "nbconvert_exporter": "python",
      "pygments_lexer": "ipython3",
      "version": "3.9.7"
    },
    "vscode": {
      "interpreter": {
        "hash": "14958d3aee5f1cad06795f787e54b96185c25fb40dfec723a5be941f3a531b8c"
      }
    }
  },
  "nbformat": 4,
  "nbformat_minor": 0
}
