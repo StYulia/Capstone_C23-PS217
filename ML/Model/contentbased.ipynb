{
  "cells": [
    {
      "cell_type": "markdown",
      "metadata": {
        "id": "DMc29WJ-rCgh"
      },
      "source": [
        "# **Content based filtering**"
      ]
    },
    {
      "cell_type": "code",
      "execution_count": 3,
      "metadata": {
        "id": "Ra02qgCpn9_o"
      },
      "outputs": [],
      "source": [
        "import pandas as pd\n",
        "from sklearn.feature_extraction.text import TfidfVectorizer\n",
        "from sklearn.metrics.pairwise import cosine_similarity"
      ]
    },
    {
      "cell_type": "code",
      "execution_count": 11,
      "metadata": {
        "colab": {
          "base_uri": "https://localhost:8080/",
          "height": 921
        },
        "id": "o2Hi0KHVlJvM",
        "outputId": "b90723de-230a-4598-9e4f-3928fb42e206"
      },
      "outputs": [],
      "source": [
        "import pandas as pd\n",
        "\n",
        "df = pd.read_csv('C:\\\\Users\\\\ASUS\\\\OneDrive\\\\Documents\\\\BANGKIT 2023\\\\Model\\\\mergedata.csv')\n"
      ]
    },
    {
      "cell_type": "code",
      "execution_count": 12,
      "metadata": {
        "colab": {
          "base_uri": "https://localhost:8080/"
        },
        "id": "3JqDNBtMmWOj",
        "outputId": "c73efd77-456d-48f4-f246-96e8c5a54fa2"
      },
      "outputs": [
        {
          "name": "stdout",
          "output_type": "stream",
          "text": [
            "<class 'pandas.core.frame.DataFrame'>\n",
            "RangeIndex: 1184 entries, 0 to 1183\n",
            "Data columns (total 15 columns):\n",
            " #   Column          Non-Null Count  Dtype  \n",
            "---  ------          --------------  -----  \n",
            " 0   Usia_kandungan  1184 non-null   int64  \n",
            " 1   Usia_ibu        1184 non-null   int64  \n",
            " 2   Tinggi_badan    1184 non-null   int64  \n",
            " 3   Berat_badan     1184 non-null   int64  \n",
            " 4   Nama_Pangan     1184 non-null   object \n",
            " 5   air(g)          1184 non-null   float64\n",
            " 6   Energi(Kal)     1184 non-null   float64\n",
            " 7   Protein(g)      1184 non-null   float64\n",
            " 8   Lemak(g)        1184 non-null   float64\n",
            " 9   Karbohidrat(g)  1184 non-null   float64\n",
            " 10  Kalsium(mg)     1184 non-null   float64\n",
            " 11  Fosfor(mg)      1184 non-null   float64\n",
            " 12  Vit_B1(mg)      1184 non-null   float64\n",
            " 13  Vit_B2(mg)      1184 non-null   float64\n",
            " 14  Vit_C(mg)       1184 non-null   float64\n",
            "dtypes: float64(10), int64(4), object(1)\n",
            "memory usage: 138.9+ KB\n"
          ]
        }
      ],
      "source": [
        "df.info()"
      ]
    },
    {
      "cell_type": "code",
      "execution_count": 13,
      "metadata": {
        "colab": {
          "base_uri": "https://localhost:8080/",
          "height": 364
        },
        "id": "tXzQ73BumZPO",
        "outputId": "b867104a-3dd0-45b9-8e5b-8ba7e93ab6d4"
      },
      "outputs": [
        {
          "data": {
            "text/html": [
              "<div>\n",
              "<style scoped>\n",
              "    .dataframe tbody tr th:only-of-type {\n",
              "        vertical-align: middle;\n",
              "    }\n",
              "\n",
              "    .dataframe tbody tr th {\n",
              "        vertical-align: top;\n",
              "    }\n",
              "\n",
              "    .dataframe thead th {\n",
              "        text-align: right;\n",
              "    }\n",
              "</style>\n",
              "<table border=\"1\" class=\"dataframe\">\n",
              "  <thead>\n",
              "    <tr style=\"text-align: right;\">\n",
              "      <th></th>\n",
              "      <th>Usia_kandungan</th>\n",
              "      <th>Usia_ibu</th>\n",
              "      <th>Tinggi_badan</th>\n",
              "      <th>Berat_badan</th>\n",
              "      <th>air(g)</th>\n",
              "      <th>Energi(Kal)</th>\n",
              "      <th>Protein(g)</th>\n",
              "      <th>Lemak(g)</th>\n",
              "      <th>Karbohidrat(g)</th>\n",
              "      <th>Kalsium(mg)</th>\n",
              "      <th>Fosfor(mg)</th>\n",
              "      <th>Vit_B1(mg)</th>\n",
              "      <th>Vit_B2(mg)</th>\n",
              "      <th>Vit_C(mg)</th>\n",
              "    </tr>\n",
              "  </thead>\n",
              "  <tbody>\n",
              "    <tr>\n",
              "      <th>count</th>\n",
              "      <td>1184.000000</td>\n",
              "      <td>1184.000000</td>\n",
              "      <td>1184.000000</td>\n",
              "      <td>1184.000000</td>\n",
              "      <td>1184.000000</td>\n",
              "      <td>1184.000000</td>\n",
              "      <td>1184.000000</td>\n",
              "      <td>1184.000000</td>\n",
              "      <td>1184.000000</td>\n",
              "      <td>1184.000000</td>\n",
              "      <td>1184.000000</td>\n",
              "      <td>1184.000000</td>\n",
              "      <td>1184.000000</td>\n",
              "      <td>1184.000000</td>\n",
              "    </tr>\n",
              "    <tr>\n",
              "      <th>mean</th>\n",
              "      <td>279.129223</td>\n",
              "      <td>27.252534</td>\n",
              "      <td>64.051520</td>\n",
              "      <td>128.569257</td>\n",
              "      <td>48.036470</td>\n",
              "      <td>225.784628</td>\n",
              "      <td>8.352669</td>\n",
              "      <td>6.584561</td>\n",
              "      <td>34.293986</td>\n",
              "      <td>93.650153</td>\n",
              "      <td>142.018179</td>\n",
              "      <td>101.663678</td>\n",
              "      <td>90.995791</td>\n",
              "      <td>6.976520</td>\n",
              "    </tr>\n",
              "    <tr>\n",
              "      <th>std</th>\n",
              "      <td>15.976875</td>\n",
              "      <td>5.809420</td>\n",
              "      <td>2.526588</td>\n",
              "      <td>20.795106</td>\n",
              "      <td>35.103326</td>\n",
              "      <td>156.686128</td>\n",
              "      <td>9.968754</td>\n",
              "      <td>9.058510</td>\n",
              "      <td>31.062000</td>\n",
              "      <td>143.292093</td>\n",
              "      <td>145.709358</td>\n",
              "      <td>429.355861</td>\n",
              "      <td>412.879653</td>\n",
              "      <td>21.497315</td>\n",
              "    </tr>\n",
              "    <tr>\n",
              "      <th>min</th>\n",
              "      <td>148.000000</td>\n",
              "      <td>15.000000</td>\n",
              "      <td>53.000000</td>\n",
              "      <td>87.000000</td>\n",
              "      <td>0.340000</td>\n",
              "      <td>3.000000</td>\n",
              "      <td>0.000000</td>\n",
              "      <td>0.000000</td>\n",
              "      <td>0.000000</td>\n",
              "      <td>0.000000</td>\n",
              "      <td>0.000000</td>\n",
              "      <td>0.000000</td>\n",
              "      <td>0.000000</td>\n",
              "      <td>0.000000</td>\n",
              "    </tr>\n",
              "    <tr>\n",
              "      <th>25%</th>\n",
              "      <td>272.000000</td>\n",
              "      <td>23.000000</td>\n",
              "      <td>62.000000</td>\n",
              "      <td>114.750000</td>\n",
              "      <td>8.100000</td>\n",
              "      <td>74.000000</td>\n",
              "      <td>1.820000</td>\n",
              "      <td>0.600000</td>\n",
              "      <td>6.600000</td>\n",
              "      <td>12.000000</td>\n",
              "      <td>31.000000</td>\n",
              "      <td>0.030000</td>\n",
              "      <td>0.000000</td>\n",
              "      <td>0.000000</td>\n",
              "    </tr>\n",
              "    <tr>\n",
              "      <th>50%</th>\n",
              "      <td>280.000000</td>\n",
              "      <td>26.000000</td>\n",
              "      <td>64.000000</td>\n",
              "      <td>125.000000</td>\n",
              "      <td>57.450000</td>\n",
              "      <td>193.000000</td>\n",
              "      <td>5.300000</td>\n",
              "      <td>3.100000</td>\n",
              "      <td>20.750000</td>\n",
              "      <td>38.000000</td>\n",
              "      <td>92.000000</td>\n",
              "      <td>0.100000</td>\n",
              "      <td>0.060000</td>\n",
              "      <td>0.000000</td>\n",
              "    </tr>\n",
              "    <tr>\n",
              "      <th>75%</th>\n",
              "      <td>288.000000</td>\n",
              "      <td>31.000000</td>\n",
              "      <td>66.000000</td>\n",
              "      <td>139.250000</td>\n",
              "      <td>82.410000</td>\n",
              "      <td>366.000000</td>\n",
              "      <td>10.722500</td>\n",
              "      <td>8.500000</td>\n",
              "      <td>68.320000</td>\n",
              "      <td>110.250000</td>\n",
              "      <td>204.750000</td>\n",
              "      <td>0.320000</td>\n",
              "      <td>0.200000</td>\n",
              "      <td>2.725000</td>\n",
              "    </tr>\n",
              "    <tr>\n",
              "      <th>max</th>\n",
              "      <td>353.000000</td>\n",
              "      <td>45.000000</td>\n",
              "      <td>72.000000</td>\n",
              "      <td>250.000000</td>\n",
              "      <td>98.690000</td>\n",
              "      <td>623.000000</td>\n",
              "      <td>68.700000</td>\n",
              "      <td>52.100000</td>\n",
              "      <td>94.000000</td>\n",
              "      <td>972.000000</td>\n",
              "      <td>919.000000</td>\n",
              "      <td>5180.000000</td>\n",
              "      <td>7290.000000</td>\n",
              "      <td>260.800000</td>\n",
              "    </tr>\n",
              "  </tbody>\n",
              "</table>\n",
              "</div>"
            ],
            "text/plain": [
              "       Usia_kandungan     Usia_ibu  Tinggi_badan  Berat_badan       air(g)  \\\n",
              "count     1184.000000  1184.000000   1184.000000  1184.000000  1184.000000   \n",
              "mean       279.129223    27.252534     64.051520   128.569257    48.036470   \n",
              "std         15.976875     5.809420      2.526588    20.795106    35.103326   \n",
              "min        148.000000    15.000000     53.000000    87.000000     0.340000   \n",
              "25%        272.000000    23.000000     62.000000   114.750000     8.100000   \n",
              "50%        280.000000    26.000000     64.000000   125.000000    57.450000   \n",
              "75%        288.000000    31.000000     66.000000   139.250000    82.410000   \n",
              "max        353.000000    45.000000     72.000000   250.000000    98.690000   \n",
              "\n",
              "       Energi(Kal)   Protein(g)     Lemak(g)  Karbohidrat(g)  Kalsium(mg)  \\\n",
              "count  1184.000000  1184.000000  1184.000000     1184.000000  1184.000000   \n",
              "mean    225.784628     8.352669     6.584561       34.293986    93.650153   \n",
              "std     156.686128     9.968754     9.058510       31.062000   143.292093   \n",
              "min       3.000000     0.000000     0.000000        0.000000     0.000000   \n",
              "25%      74.000000     1.820000     0.600000        6.600000    12.000000   \n",
              "50%     193.000000     5.300000     3.100000       20.750000    38.000000   \n",
              "75%     366.000000    10.722500     8.500000       68.320000   110.250000   \n",
              "max     623.000000    68.700000    52.100000       94.000000   972.000000   \n",
              "\n",
              "        Fosfor(mg)   Vit_B1(mg)   Vit_B2(mg)    Vit_C(mg)  \n",
              "count  1184.000000  1184.000000  1184.000000  1184.000000  \n",
              "mean    142.018179   101.663678    90.995791     6.976520  \n",
              "std     145.709358   429.355861   412.879653    21.497315  \n",
              "min       0.000000     0.000000     0.000000     0.000000  \n",
              "25%      31.000000     0.030000     0.000000     0.000000  \n",
              "50%      92.000000     0.100000     0.060000     0.000000  \n",
              "75%     204.750000     0.320000     0.200000     2.725000  \n",
              "max     919.000000  5180.000000  7290.000000   260.800000  "
            ]
          },
          "execution_count": 13,
          "metadata": {},
          "output_type": "execute_result"
        }
      ],
      "source": [
        "df.describe()"
      ]
    },
    {
      "cell_type": "code",
      "execution_count": 14,
      "metadata": {
        "id": "SavdschHmzLW"
      },
      "outputs": [],
      "source": [
        "# inisialisasi bobot fitur\n",
        "weights = {'air(g)': 1, 'Energi(Kal)': 2, 'Protein(g)': 3, 'Lemak(g)': 2, 'Karbohidrat(g)': 2,\n",
        "           'Kalsium(mg)': 1, 'Fosfor(mg)': 1, 'Vit_B1(mg)': 1, 'Vit_B2(mg)': 1, 'Vit_C(mg)': 1}"
      ]
    },
    {
      "cell_type": "code",
      "execution_count": 15,
      "metadata": {
        "id": "zIF0o_IfnFW1"
      },
      "outputs": [],
      "source": [
        "# kesesuaian makanan berdasarkan bobot\n",
        "\n",
        "for idx, row in df.iterrows():\n",
        "  score = 0\n",
        "  for feature, weight in weights.items():\n",
        "    score += row[feature] * weight\n",
        "  df.at[idx, 'Score'] = score"
      ]
    },
    {
      "cell_type": "code",
      "execution_count": 16,
      "metadata": {
        "id": "R-T6rS3pnuSF"
      },
      "outputs": [],
      "source": [
        "# vektorisasi nama pangan dengan TF-IDF\n",
        "tfidf = TfidfVectorizer()\n",
        "food_matrix = tfidf.fit_transform(df['Nama_Pangan'])\n"
      ]
    },
    {
      "cell_type": "code",
      "execution_count": 17,
      "metadata": {
        "id": "4V7o0VZZoNLh"
      },
      "outputs": [],
      "source": [
        "# skor kesamaan profil dan setiap menu\n",
        "\n",
        "profile = [0,0,0,0]\n",
        "profile_vector = tfidf.transform([' '.join(map(str, profile))])\n",
        "similarity_score = cosine_similarity(profile_vector, food_matrix)"
      ]
    },
    {
      "cell_type": "code",
      "execution_count": 18,
      "metadata": {
        "id": "RAX7DqRvopIt"
      },
      "outputs": [],
      "source": [
        "sorted_indices = similarity_score.argsort()[0][::-1]\n",
        "sorted_foods = df.iloc[sorted_indices]"
      ]
    },
    {
      "cell_type": "code",
      "execution_count": 19,
      "metadata": {
        "colab": {
          "base_uri": "https://localhost:8080/"
        },
        "id": "FqsbAmmPo1qX",
        "outputId": "78209519-23dd-4120-dff7-e3f272d8067b"
      },
      "outputs": [
        {
          "name": "stdout",
          "output_type": "stream",
          "text": [
            "Rekomendasi Makanan untuk Ibu Hamil:\n",
            "Usia_kandungan\n",
            "Usia_ibu\n",
            "Tinggi_badan\n",
            "Berat_badan\n",
            "Nama_Pangan\n",
            "air(g)\n",
            "Energi(Kal)\n",
            "Protein(g)\n",
            "Lemak(g)\n",
            "Karbohidrat(g)\n",
            "Kalsium(mg)\n",
            "Fosfor(mg)\n",
            "Vit_B1(mg)\n",
            "Vit_B2(mg)\n",
            "Vit_C(mg)\n",
            "Score\n"
          ]
        }
      ],
      "source": [
        "print(\"Rekomendasi Makanan untuk Ibu Hamil:\")\n",
        "for food in sorted_foods:\n",
        "    print(food)"
      ]
    },
    {
      "cell_type": "code",
      "execution_count": 20,
      "metadata": {
        "id": "kV4UeqrKpZWd"
      },
      "outputs": [],
      "source": [
        "num_recommendations = 5"
      ]
    },
    {
      "cell_type": "code",
      "execution_count": 21,
      "metadata": {
        "colab": {
          "base_uri": "https://localhost:8080/"
        },
        "id": "qYsQgeRMphT2",
        "outputId": "814b4029-9f93-4877-cd17-a40a86b4d074"
      },
      "outputs": [
        {
          "name": "stdout",
          "output_type": "stream",
          "text": [
            "Rekomendasi Makanan untuk Ibu Hamil:\n",
            "Sup, jamur ayam, kalengan, disiapkan dengan air volume yang sama\n",
            "Sagu Lemak (Kue Sagon)\n",
            "Sagu manis\n",
            "Sagu Rendang\n",
            "Sagu singkong, kering\n"
          ]
        }
      ],
      "source": [
        "try:\n",
        "    # Memilih beberapa pangan dengan skor kesamaan tertinggi\n",
        "    recommendations = sorted_foods.head(num_recommendations)['Nama_Pangan']\n",
        "\n",
        "    # Output rekomendasi makanan\n",
        "    print(\"Rekomendasi Makanan untuk Ibu Hamil:\")\n",
        "    for food in recommendations:\n",
        "        print(food)\n",
        "except KeyError as e:\n",
        "    print(\"Error: Column 'Nama_Pangan' is not present in the DataFrame.\")"
      ]
    },
    {
      "cell_type": "code",
      "execution_count": null,
      "metadata": {
        "id": "PeVZbM-wF7Z5"
      },
      "outputs": [],
      "source": []
    },
    {
      "cell_type": "code",
      "execution_count": 67,
      "metadata": {
        "id": "Nefyis1wJU-0"
      },
      "outputs": [],
      "source": [
        "with open(\"weights.txt\", \"w\") as file:\n",
        "    for feature, weight in weights.items():\n",
        "        file.write(f\"{feature}: {weight}\\n\")\n"
      ]
    },
    {
      "cell_type": "code",
      "execution_count": 68,
      "metadata": {
        "id": "pR7M9XGOJYdq"
      },
      "outputs": [],
      "source": [
        "import pickle\n",
        "\n",
        "with open(\"tfidf_vectorizer.pkl\", \"wb\") as file:\n",
        "    pickle.dump(tfidf, file)\n"
      ]
    },
    {
      "cell_type": "code",
      "execution_count": null,
      "metadata": {
        "id": "Wp7BpfQ_JgVi"
      },
      "outputs": [],
      "source": [
        "pip install tensorflow tensorflow-lite\n"
      ]
    },
    {
      "cell_type": "code",
      "execution_count": 2,
      "metadata": {},
      "outputs": [
        {
          "name": "stdout",
          "output_type": "stream",
          "text": [
            "2.11.0\n"
          ]
        }
      ],
      "source": [
        "import tensorflow as tf\n",
        "\n",
        "# Cek versi TFLite\n",
        "print(tf.__version__)\n",
        "\n"
      ]
    },
    {
      "cell_type": "code",
      "execution_count": 23,
      "metadata": {},
      "outputs": [],
      "source": [
        "import pickle\n",
        "\n",
        "# Membuat dan menginisialisasi objek tfidf_vectorizer\n",
        "tfidf_vectorizer = TfidfVectorizer()\n",
        "\n",
        "# Melakukan pemrosesan dan pengisian tfidf_vectorizer\n",
        "\n",
        "# Simpan objek vektorisasi TF-IDF ke dalam file\n",
        "with open('tfidf_vectorizer.pkl', 'wb') as file:\n",
        "    pickle.dump(tfidf_vectorizer, file)\n"
      ]
    },
    {
      "cell_type": "code",
      "execution_count": 24,
      "metadata": {},
      "outputs": [],
      "source": [
        "import pickle\n",
        "\n",
        "# Simpan objek vektorisasi TF-IDF ke dalam file\n",
        "with open('tfidf_vectorizer.pkl', 'wb') as file:\n",
        "    pickle.dump(tfidf_vectorizer, file)\n"
      ]
    },
    {
      "cell_type": "code",
      "execution_count": 26,
      "metadata": {},
      "outputs": [],
      "source": [
        "import tensorflow as tf"
      ]
    },
    {
      "cell_type": "code",
      "execution_count": 27,
      "metadata": {},
      "outputs": [],
      "source": [
        "with open('tfidf_vectorizer.pkl', 'rb') as file:\n",
        "    model = pickle.load(file)\n"
      ]
    },
    {
      "cell_type": "code",
      "execution_count": 28,
      "metadata": {},
      "outputs": [
        {
          "ename": "AttributeError",
          "evalue": "'TfidfVectorizer' object has no attribute 'call'",
          "output_type": "error",
          "traceback": [
            "\u001b[1;31m---------------------------------------------------------------------------\u001b[0m",
            "\u001b[1;31mAttributeError\u001b[0m                            Traceback (most recent call last)",
            "Cell \u001b[1;32mIn [28], line 2\u001b[0m\n\u001b[0;32m      1\u001b[0m converter \u001b[38;5;241m=\u001b[39m tf\u001b[38;5;241m.\u001b[39mlite\u001b[38;5;241m.\u001b[39mTFLiteConverter\u001b[38;5;241m.\u001b[39mfrom_keras_model(model)\n\u001b[1;32m----> 2\u001b[0m tflite_model \u001b[38;5;241m=\u001b[39m \u001b[43mconverter\u001b[49m\u001b[38;5;241;43m.\u001b[39;49m\u001b[43mconvert\u001b[49m\u001b[43m(\u001b[49m\u001b[43m)\u001b[49m\n",
            "File \u001b[1;32mc:\\Users\\ASUS\\AppData\\Local\\Programs\\Python\\Python39\\lib\\site-packages\\tensorflow\\lite\\python\\lite.py:933\u001b[0m, in \u001b[0;36m_export_metrics.<locals>.wrapper\u001b[1;34m(self, *args, **kwargs)\u001b[0m\n\u001b[0;32m    930\u001b[0m \u001b[39m@functools\u001b[39m\u001b[39m.\u001b[39mwraps(convert_func)\n\u001b[0;32m    931\u001b[0m \u001b[39mdef\u001b[39;00m \u001b[39mwrapper\u001b[39m(\u001b[39mself\u001b[39m, \u001b[39m*\u001b[39margs, \u001b[39m*\u001b[39m\u001b[39m*\u001b[39mkwargs):\n\u001b[0;32m    932\u001b[0m   \u001b[39m# pylint: disable=protected-access\u001b[39;00m\n\u001b[1;32m--> 933\u001b[0m   \u001b[39mreturn\u001b[39;00m \u001b[39mself\u001b[39m\u001b[39m.\u001b[39m_convert_and_export_metrics(convert_func, \u001b[39m*\u001b[39margs, \u001b[39m*\u001b[39m\u001b[39m*\u001b[39mkwargs)\n",
            "File \u001b[1;32mc:\\Users\\ASUS\\AppData\\Local\\Programs\\Python\\Python39\\lib\\site-packages\\tensorflow\\lite\\python\\lite.py:911\u001b[0m, in \u001b[0;36mTFLiteConverterBase._convert_and_export_metrics\u001b[1;34m(self, convert_func, *args, **kwargs)\u001b[0m\n\u001b[0;32m    909\u001b[0m \u001b[39mself\u001b[39m\u001b[39m.\u001b[39m_save_conversion_params_metric()\n\u001b[0;32m    910\u001b[0m start_time \u001b[39m=\u001b[39m time\u001b[39m.\u001b[39mprocess_time()\n\u001b[1;32m--> 911\u001b[0m result \u001b[39m=\u001b[39m convert_func(\u001b[39mself\u001b[39m, \u001b[39m*\u001b[39margs, \u001b[39m*\u001b[39m\u001b[39m*\u001b[39mkwargs)\n\u001b[0;32m    912\u001b[0m elapsed_time_ms \u001b[39m=\u001b[39m (time\u001b[39m.\u001b[39mprocess_time() \u001b[39m-\u001b[39m start_time) \u001b[39m*\u001b[39m \u001b[39m1000\u001b[39m\n\u001b[0;32m    913\u001b[0m \u001b[39mif\u001b[39;00m result:\n",
            "File \u001b[1;32mc:\\Users\\ASUS\\AppData\\Local\\Programs\\Python\\Python39\\lib\\site-packages\\tensorflow\\lite\\python\\lite.py:1347\u001b[0m, in \u001b[0;36mTFLiteKerasModelConverterV2.convert\u001b[1;34m(self)\u001b[0m\n\u001b[0;32m   1343\u001b[0m \u001b[39mif\u001b[39;00m saved_model_convert_result:\n\u001b[0;32m   1344\u001b[0m   \u001b[39mreturn\u001b[39;00m saved_model_convert_result\n\u001b[0;32m   1346\u001b[0m graph_def, input_tensors, output_tensors, frozen_func \u001b[39m=\u001b[39m (\n\u001b[1;32m-> 1347\u001b[0m     \u001b[39mself\u001b[39;49m\u001b[39m.\u001b[39;49m_freeze_keras_model())\n\u001b[0;32m   1349\u001b[0m graph_def \u001b[39m=\u001b[39m \u001b[39mself\u001b[39m\u001b[39m.\u001b[39m_optimize_tf_model(graph_def, input_tensors,\n\u001b[0;32m   1350\u001b[0m                                     output_tensors, frozen_func)\n\u001b[0;32m   1352\u001b[0m \u001b[39mreturn\u001b[39;00m \u001b[39msuper\u001b[39m(TFLiteKerasModelConverterV2,\n\u001b[0;32m   1353\u001b[0m              \u001b[39mself\u001b[39m)\u001b[39m.\u001b[39mconvert(graph_def, input_tensors, output_tensors)\n",
            "File \u001b[1;32mc:\\Users\\ASUS\\AppData\\Local\\Programs\\Python\\Python39\\lib\\site-packages\\tensorflow\\lite\\python\\convert_phase.py:215\u001b[0m, in \u001b[0;36mconvert_phase.<locals>.actual_decorator.<locals>.wrapper\u001b[1;34m(*args, **kwargs)\u001b[0m\n\u001b[0;32m    213\u001b[0m \u001b[39mexcept\u001b[39;00m \u001b[39mException\u001b[39;00m \u001b[39mas\u001b[39;00m error:\n\u001b[0;32m    214\u001b[0m   report_error_message(\u001b[39mstr\u001b[39m(error))\n\u001b[1;32m--> 215\u001b[0m   \u001b[39mraise\u001b[39;00m error \u001b[39mfrom\u001b[39;00m \u001b[39mNone\u001b[39m\n",
            "File \u001b[1;32mc:\\Users\\ASUS\\AppData\\Local\\Programs\\Python\\Python39\\lib\\site-packages\\tensorflow\\lite\\python\\convert_phase.py:205\u001b[0m, in \u001b[0;36mconvert_phase.<locals>.actual_decorator.<locals>.wrapper\u001b[1;34m(*args, **kwargs)\u001b[0m\n\u001b[0;32m    202\u001b[0m \u001b[39m@functools\u001b[39m\u001b[39m.\u001b[39mwraps(func)\n\u001b[0;32m    203\u001b[0m \u001b[39mdef\u001b[39;00m \u001b[39mwrapper\u001b[39m(\u001b[39m*\u001b[39margs, \u001b[39m*\u001b[39m\u001b[39m*\u001b[39mkwargs):\n\u001b[0;32m    204\u001b[0m   \u001b[39mtry\u001b[39;00m:\n\u001b[1;32m--> 205\u001b[0m     \u001b[39mreturn\u001b[39;00m func(\u001b[39m*\u001b[39margs, \u001b[39m*\u001b[39m\u001b[39m*\u001b[39mkwargs)\n\u001b[0;32m    206\u001b[0m   \u001b[39mexcept\u001b[39;00m ConverterError \u001b[39mas\u001b[39;00m converter_error:\n\u001b[0;32m    207\u001b[0m     \u001b[39mif\u001b[39;00m converter_error\u001b[39m.\u001b[39merrors:\n",
            "File \u001b[1;32mc:\\Users\\ASUS\\AppData\\Local\\Programs\\Python\\Python39\\lib\\site-packages\\tensorflow\\lite\\python\\lite.py:1290\u001b[0m, in \u001b[0;36mTFLiteKerasModelConverterV2._freeze_keras_model\u001b[1;34m(self)\u001b[0m\n\u001b[0;32m   1284\u001b[0m input_signature \u001b[39m=\u001b[39m \u001b[39mNone\u001b[39;00m\n\u001b[0;32m   1285\u001b[0m \u001b[39m# If the model's call is not a `tf.function`, then we need to first get its\u001b[39;00m\n\u001b[0;32m   1286\u001b[0m \u001b[39m# input signature from `model_input_signature` method. We can't directly\u001b[39;00m\n\u001b[0;32m   1287\u001b[0m \u001b[39m# call `trace_model_call` because otherwise the batch dimension is set\u001b[39;00m\n\u001b[0;32m   1288\u001b[0m \u001b[39m# to None.\u001b[39;00m\n\u001b[0;32m   1289\u001b[0m \u001b[39m# Once we have better support for dynamic shapes, we can remove this.\u001b[39;00m\n\u001b[1;32m-> 1290\u001b[0m \u001b[39mif\u001b[39;00m \u001b[39mnot\u001b[39;00m \u001b[39misinstance\u001b[39m(\u001b[39mself\u001b[39;49m\u001b[39m.\u001b[39;49m_keras_model\u001b[39m.\u001b[39;49mcall, _def_function\u001b[39m.\u001b[39mFunction):\n\u001b[0;32m   1291\u001b[0m   \u001b[39m# Pass `keep_original_batch_size=True` will ensure that we get an input\u001b[39;00m\n\u001b[0;32m   1292\u001b[0m   \u001b[39m# signature including the batch dimension specified by the user.\u001b[39;00m\n\u001b[0;32m   1293\u001b[0m   \u001b[39m# TODO(b/169898786): Use the Keras public API when TFLite moves out of TF\u001b[39;00m\n\u001b[0;32m   1294\u001b[0m   input_signature \u001b[39m=\u001b[39m _model_input_signature(\n\u001b[0;32m   1295\u001b[0m       \u001b[39mself\u001b[39m\u001b[39m.\u001b[39m_keras_model, keep_original_batch_size\u001b[39m=\u001b[39m\u001b[39mTrue\u001b[39;00m)\n\u001b[0;32m   1297\u001b[0m \u001b[39m# TODO(b/169898786): Use the Keras public API when TFLite moves out of TF\u001b[39;00m\n",
            "\u001b[1;31mAttributeError\u001b[0m: 'TfidfVectorizer' object has no attribute 'call'"
          ]
        }
      ],
      "source": [
        "converter = tf.lite.TFLiteConverter.from_keras_model(model)\n",
        "tflite_model = converter.convert()\n"
      ]
    }
  ],
  "metadata": {
    "colab": {
      "provenance": []
    },
    "kernelspec": {
      "display_name": "Python 3.9.7 64-bit",
      "language": "python",
      "name": "python3"
    },
    "language_info": {
      "codemirror_mode": {
        "name": "ipython",
        "version": 3
      },
      "file_extension": ".py",
      "mimetype": "text/x-python",
      "name": "python",
      "nbconvert_exporter": "python",
      "pygments_lexer": "ipython3",
      "version": "3.9.7"
    },
    "vscode": {
      "interpreter": {
        "hash": "14958d3aee5f1cad06795f787e54b96185c25fb40dfec723a5be941f3a531b8c"
      }
    }
  },
  "nbformat": 4,
  "nbformat_minor": 0
}
