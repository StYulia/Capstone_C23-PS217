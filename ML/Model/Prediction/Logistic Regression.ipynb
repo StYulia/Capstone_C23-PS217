{
 "cells": [
  {
   "cell_type": "markdown",
   "metadata": {
    "id": "abItnjNvCKY4"
   },
   "source": [
    "**PACKAGES**"
   ]
  },
  {
   "cell_type": "code",
   "execution_count": 5,
   "metadata": {
    "id": "a_8df4Q5B4rz"
   },
   "outputs": [],
   "source": [
    "import pandas as pd\n",
    "import numpy as np\n",
    "import copy\n",
    "import math\n",
    "import tensorflow as tf\n",
    "from sklearn.model_selection import train_test_split\n"
   ]
  },
  {
   "cell_type": "code",
   "execution_count": 7,
   "metadata": {
    "colab": {
     "base_uri": "https://localhost:8080/",
     "height": 540
    },
    "id": "rfErc6j9BsH6",
    "outputId": "1f67f5f9-7379-496a-857f-e6a454c49f22"
   },
   "outputs": [
    {
     "data": {
      "text/html": [
       "<div>\n",
       "<style scoped>\n",
       "    .dataframe tbody tr th:only-of-type {\n",
       "        vertical-align: middle;\n",
       "    }\n",
       "\n",
       "    .dataframe tbody tr th {\n",
       "        vertical-align: top;\n",
       "    }\n",
       "\n",
       "    .dataframe thead th {\n",
       "        text-align: right;\n",
       "    }\n",
       "</style>\n",
       "<table border=\"1\" class=\"dataframe\">\n",
       "  <thead>\n",
       "    <tr style=\"text-align: right;\">\n",
       "      <th></th>\n",
       "      <th>Usia (tahun)</th>\n",
       "      <th>Tinggi Badan (m)</th>\n",
       "      <th>Berat Badan (kg)</th>\n",
       "      <th>Klasifikasi</th>\n",
       "      <th>IMT (kg/m2)</th>\n",
       "      <th>Lama Kehamilan (hari)</th>\n",
       "      <th>Berat Lahir Bayi (kg)</th>\n",
       "      <th>Status</th>\n",
       "    </tr>\n",
       "  </thead>\n",
       "  <tbody>\n",
       "    <tr>\n",
       "      <th>0</th>\n",
       "      <td>27.0</td>\n",
       "      <td>1.5748</td>\n",
       "      <td>45.359200</td>\n",
       "      <td>Normal</td>\n",
       "      <td>18.290037</td>\n",
       "      <td>284.0</td>\n",
       "      <td>3.401940</td>\n",
       "      <td>0</td>\n",
       "    </tr>\n",
       "    <tr>\n",
       "      <th>1</th>\n",
       "      <td>33.0</td>\n",
       "      <td>1.6256</td>\n",
       "      <td>61.234920</td>\n",
       "      <td>Gemuk</td>\n",
       "      <td>23.172440</td>\n",
       "      <td>282.0</td>\n",
       "      <td>3.203493</td>\n",
       "      <td>0</td>\n",
       "    </tr>\n",
       "    <tr>\n",
       "      <th>2</th>\n",
       "      <td>28.0</td>\n",
       "      <td>1.6256</td>\n",
       "      <td>52.163080</td>\n",
       "      <td>Normal</td>\n",
       "      <td>19.739486</td>\n",
       "      <td>279.0</td>\n",
       "      <td>3.628736</td>\n",
       "      <td>0</td>\n",
       "    </tr>\n",
       "    <tr>\n",
       "      <th>3</th>\n",
       "      <td>36.0</td>\n",
       "      <td>1.7526</td>\n",
       "      <td>86.182480</td>\n",
       "      <td>Obesitas</td>\n",
       "      <td>28.057784</td>\n",
       "      <td>0.0</td>\n",
       "      <td>3.486988</td>\n",
       "      <td>0</td>\n",
       "    </tr>\n",
       "    <tr>\n",
       "      <th>4</th>\n",
       "      <td>23.0</td>\n",
       "      <td>1.7018</td>\n",
       "      <td>56.699000</td>\n",
       "      <td>Normal</td>\n",
       "      <td>19.577551</td>\n",
       "      <td>282.0</td>\n",
       "      <td>3.061746</td>\n",
       "      <td>0</td>\n",
       "    </tr>\n",
       "    <tr>\n",
       "      <th>...</th>\n",
       "      <td>...</td>\n",
       "      <td>...</td>\n",
       "      <td>...</td>\n",
       "      <td>...</td>\n",
       "      <td>...</td>\n",
       "      <td>...</td>\n",
       "      <td>...</td>\n",
       "      <td>...</td>\n",
       "    </tr>\n",
       "    <tr>\n",
       "      <th>1231</th>\n",
       "      <td>27.0</td>\n",
       "      <td>1.5240</td>\n",
       "      <td>45.359200</td>\n",
       "      <td>Normal</td>\n",
       "      <td>19.529695</td>\n",
       "      <td>275.0</td>\n",
       "      <td>3.203493</td>\n",
       "      <td>0</td>\n",
       "    </tr>\n",
       "    <tr>\n",
       "      <th>1232</th>\n",
       "      <td>24.0</td>\n",
       "      <td>1.7018</td>\n",
       "      <td>54.431040</td>\n",
       "      <td>Normal</td>\n",
       "      <td>18.794449</td>\n",
       "      <td>265.0</td>\n",
       "      <td>3.628736</td>\n",
       "      <td>0</td>\n",
       "    </tr>\n",
       "    <tr>\n",
       "      <th>1233</th>\n",
       "      <td>30.0</td>\n",
       "      <td>1.6510</td>\n",
       "      <td>68.038800</td>\n",
       "      <td>Gemuk</td>\n",
       "      <td>24.961030</td>\n",
       "      <td>291.0</td>\n",
       "      <td>3.685435</td>\n",
       "      <td>0</td>\n",
       "    </tr>\n",
       "    <tr>\n",
       "      <th>1234</th>\n",
       "      <td>21.0</td>\n",
       "      <td>1.6510</td>\n",
       "      <td>49.895120</td>\n",
       "      <td>Normal</td>\n",
       "      <td>18.304755</td>\n",
       "      <td>281.0</td>\n",
       "      <td>3.543687</td>\n",
       "      <td>0</td>\n",
       "    </tr>\n",
       "    <tr>\n",
       "      <th>1235</th>\n",
       "      <td>38.0</td>\n",
       "      <td>1.6510</td>\n",
       "      <td>58.513368</td>\n",
       "      <td>Normal</td>\n",
       "      <td>21.466486</td>\n",
       "      <td>297.0</td>\n",
       "      <td>3.316892</td>\n",
       "      <td>0</td>\n",
       "    </tr>\n",
       "  </tbody>\n",
       "</table>\n",
       "<p>1236 rows × 8 columns</p>\n",
       "</div>"
      ],
      "text/plain": [
       "      Usia (tahun)  Tinggi Badan (m)  Berat Badan (kg) Klasifikasi  \\\n",
       "0             27.0            1.5748         45.359200      Normal   \n",
       "1             33.0            1.6256         61.234920       Gemuk   \n",
       "2             28.0            1.6256         52.163080      Normal   \n",
       "3             36.0            1.7526         86.182480    Obesitas   \n",
       "4             23.0            1.7018         56.699000      Normal   \n",
       "...            ...               ...               ...         ...   \n",
       "1231          27.0            1.5240         45.359200      Normal   \n",
       "1232          24.0            1.7018         54.431040      Normal   \n",
       "1233          30.0            1.6510         68.038800       Gemuk   \n",
       "1234          21.0            1.6510         49.895120      Normal   \n",
       "1235          38.0            1.6510         58.513368      Normal   \n",
       "\n",
       "      IMT (kg/m2)  Lama Kehamilan (hari)  Berat Lahir Bayi (kg)  Status  \n",
       "0       18.290037                  284.0               3.401940       0  \n",
       "1       23.172440                  282.0               3.203493       0  \n",
       "2       19.739486                  279.0               3.628736       0  \n",
       "3       28.057784                    0.0               3.486988       0  \n",
       "4       19.577551                  282.0               3.061746       0  \n",
       "...           ...                    ...                    ...     ...  \n",
       "1231    19.529695                  275.0               3.203493       0  \n",
       "1232    18.794449                  265.0               3.628736       0  \n",
       "1233    24.961030                  291.0               3.685435       0  \n",
       "1234    18.304755                  281.0               3.543687       0  \n",
       "1235    21.466486                  297.0               3.316892       0  \n",
       "\n",
       "[1236 rows x 8 columns]"
      ]
     },
     "execution_count": 7,
     "metadata": {},
     "output_type": "execute_result"
    }
   ],
   "source": [
    "dataset = pd.read_csv(\"profil_ibu.csv\")\n",
    "dataset"
   ]
  },
  {
   "cell_type": "code",
   "execution_count": 8,
   "metadata": {
    "colab": {
     "base_uri": "https://localhost:8080/"
    },
    "id": "BUp7QmbubfRG",
    "outputId": "eaf3d651-6c09-431b-a20d-f8168d139fc3"
   },
   "outputs": [
    {
     "data": {
      "text/plain": [
       "(1236, 8)"
      ]
     },
     "execution_count": 8,
     "metadata": {},
     "output_type": "execute_result"
    }
   ],
   "source": [
    "dataset.shape"
   ]
  },
  {
   "cell_type": "code",
   "execution_count": 9,
   "metadata": {
    "colab": {
     "base_uri": "https://localhost:8080/"
    },
    "id": "t38NSQ9obTQW",
    "outputId": "a43b150f-09fa-4b9a-d156-fbcd26c350fb"
   },
   "outputs": [
    {
     "name": "stdout",
     "output_type": "stream",
     "text": [
      "<class 'pandas.core.frame.DataFrame'>\n",
      "RangeIndex: 1236 entries, 0 to 1235\n",
      "Data columns (total 8 columns):\n",
      " #   Column                 Non-Null Count  Dtype  \n",
      "---  ------                 --------------  -----  \n",
      " 0   Usia (tahun)           1236 non-null   float64\n",
      " 1   Tinggi Badan (m)       1236 non-null   float64\n",
      " 2   Berat Badan (kg)       1236 non-null   float64\n",
      " 3   Klasifikasi            1236 non-null   object \n",
      " 4   IMT (kg/m2)            1217 non-null   float64\n",
      " 5   Lama Kehamilan (hari)  1236 non-null   float64\n",
      " 6   Berat Lahir Bayi (kg)  1236 non-null   float64\n",
      " 7   Status                 1236 non-null   int64  \n",
      "dtypes: float64(6), int64(1), object(1)\n",
      "memory usage: 77.4+ KB\n"
     ]
    }
   ],
   "source": [
    "dataset.info()"
   ]
  },
  {
   "cell_type": "code",
   "execution_count": 10,
   "metadata": {
    "colab": {
     "base_uri": "https://localhost:8080/",
     "height": 399
    },
    "id": "K88xhyAbfkMo",
    "outputId": "bb379d0e-acf4-40a0-b249-c72e30557a9b"
   },
   "outputs": [
    {
     "data": {
      "text/html": [
       "<div>\n",
       "<style scoped>\n",
       "    .dataframe tbody tr th:only-of-type {\n",
       "        vertical-align: middle;\n",
       "    }\n",
       "\n",
       "    .dataframe tbody tr th {\n",
       "        vertical-align: top;\n",
       "    }\n",
       "\n",
       "    .dataframe thead th {\n",
       "        text-align: right;\n",
       "    }\n",
       "</style>\n",
       "<table border=\"1\" class=\"dataframe\">\n",
       "  <thead>\n",
       "    <tr style=\"text-align: right;\">\n",
       "      <th></th>\n",
       "      <th>Usia (tahun)</th>\n",
       "      <th>Tinggi Badan (m)</th>\n",
       "      <th>Berat Badan (kg)</th>\n",
       "      <th>IMT (kg/m2)</th>\n",
       "      <th>Lama Kehamilan (hari)</th>\n",
       "      <th>Berat Lahir Bayi (kg)</th>\n",
       "      <th>Status</th>\n",
       "    </tr>\n",
       "  </thead>\n",
       "  <tbody>\n",
       "    <tr>\n",
       "      <th>count</th>\n",
       "      <td>1236.000000</td>\n",
       "      <td>1236.000000</td>\n",
       "      <td>1236.000000</td>\n",
       "      <td>1217.000000</td>\n",
       "      <td>1236.000000</td>\n",
       "      <td>1236.000000</td>\n",
       "      <td>1236.000000</td>\n",
       "    </tr>\n",
       "    <tr>\n",
       "      <th>mean</th>\n",
       "      <td>27.211165</td>\n",
       "      <td>1.597857</td>\n",
       "      <td>56.644319</td>\n",
       "      <td>inf</td>\n",
       "      <td>276.400485</td>\n",
       "      <td>3.389944</td>\n",
       "      <td>0.018608</td>\n",
       "    </tr>\n",
       "    <tr>\n",
       "      <th>std</th>\n",
       "      <td>5.879759</td>\n",
       "      <td>0.224438</td>\n",
       "      <td>13.571602</td>\n",
       "      <td>NaN</td>\n",
       "      <td>32.663624</td>\n",
       "      <td>0.516994</td>\n",
       "      <td>0.135192</td>\n",
       "    </tr>\n",
       "    <tr>\n",
       "      <th>min</th>\n",
       "      <td>0.000000</td>\n",
       "      <td>0.000000</td>\n",
       "      <td>0.000000</td>\n",
       "      <td>0.000000</td>\n",
       "      <td>0.000000</td>\n",
       "      <td>1.559222</td>\n",
       "      <td>0.000000</td>\n",
       "    </tr>\n",
       "    <tr>\n",
       "      <th>25%</th>\n",
       "      <td>23.000000</td>\n",
       "      <td>1.574800</td>\n",
       "      <td>50.802304</td>\n",
       "      <td>19.911134</td>\n",
       "      <td>272.000000</td>\n",
       "      <td>3.083008</td>\n",
       "      <td>0.000000</td>\n",
       "    </tr>\n",
       "    <tr>\n",
       "      <th>50%</th>\n",
       "      <td>26.000000</td>\n",
       "      <td>1.625600</td>\n",
       "      <td>56.699000</td>\n",
       "      <td>21.256810</td>\n",
       "      <td>280.000000</td>\n",
       "      <td>3.401940</td>\n",
       "      <td>0.000000</td>\n",
       "    </tr>\n",
       "    <tr>\n",
       "      <th>75%</th>\n",
       "      <td>31.000000</td>\n",
       "      <td>1.676400</td>\n",
       "      <td>62.595696</td>\n",
       "      <td>23.344088</td>\n",
       "      <td>288.000000</td>\n",
       "      <td>3.713785</td>\n",
       "      <td>0.000000</td>\n",
       "    </tr>\n",
       "    <tr>\n",
       "      <th>max</th>\n",
       "      <td>45.000000</td>\n",
       "      <td>1.828800</td>\n",
       "      <td>113.398000</td>\n",
       "      <td>inf</td>\n",
       "      <td>353.000000</td>\n",
       "      <td>4.989512</td>\n",
       "      <td>1.000000</td>\n",
       "    </tr>\n",
       "  </tbody>\n",
       "</table>\n",
       "</div>"
      ],
      "text/plain": [
       "       Usia (tahun)  Tinggi Badan (m)  Berat Badan (kg)  IMT (kg/m2)  \\\n",
       "count   1236.000000       1236.000000       1236.000000  1217.000000   \n",
       "mean      27.211165          1.597857         56.644319          inf   \n",
       "std        5.879759          0.224438         13.571602          NaN   \n",
       "min        0.000000          0.000000          0.000000     0.000000   \n",
       "25%       23.000000          1.574800         50.802304    19.911134   \n",
       "50%       26.000000          1.625600         56.699000    21.256810   \n",
       "75%       31.000000          1.676400         62.595696    23.344088   \n",
       "max       45.000000          1.828800        113.398000          inf   \n",
       "\n",
       "       Lama Kehamilan (hari)  Berat Lahir Bayi (kg)       Status  \n",
       "count            1236.000000            1236.000000  1236.000000  \n",
       "mean              276.400485               3.389944     0.018608  \n",
       "std                32.663624               0.516994     0.135192  \n",
       "min                 0.000000               1.559222     0.000000  \n",
       "25%               272.000000               3.083008     0.000000  \n",
       "50%               280.000000               3.401940     0.000000  \n",
       "75%               288.000000               3.713785     0.000000  \n",
       "max               353.000000               4.989512     1.000000  "
      ]
     },
     "execution_count": 10,
     "metadata": {},
     "output_type": "execute_result"
    }
   ],
   "source": [
    "dataset.describe()"
   ]
  },
  {
   "cell_type": "code",
   "execution_count": 11,
   "metadata": {
    "id": "t8h8dKlioom8"
   },
   "outputs": [],
   "source": [
    "dataset = dataset.drop(['Klasifikasi','IMT (kg/m2)','Lama Kehamilan (hari)','Berat Lahir Bayi (kg)'], axis=1)"
   ]
  },
  {
   "cell_type": "code",
   "execution_count": 12,
   "metadata": {
    "colab": {
     "base_uri": "https://localhost:8080/",
     "height": 576
    },
    "id": "ggGGA72UHNLR",
    "outputId": "4770a221-6ef5-4d02-b283-8ac759bdb1f4"
   },
   "outputs": [
    {
     "data": {
      "text/html": [
       "<div>\n",
       "<style scoped>\n",
       "    .dataframe tbody tr th:only-of-type {\n",
       "        vertical-align: middle;\n",
       "    }\n",
       "\n",
       "    .dataframe tbody tr th {\n",
       "        vertical-align: top;\n",
       "    }\n",
       "\n",
       "    .dataframe thead th {\n",
       "        text-align: right;\n",
       "    }\n",
       "</style>\n",
       "<table border=\"1\" class=\"dataframe\">\n",
       "  <thead>\n",
       "    <tr style=\"text-align: right;\">\n",
       "      <th></th>\n",
       "      <th>Usia (tahun)</th>\n",
       "      <th>Tinggi Badan (m)</th>\n",
       "      <th>Berat Badan (kg)</th>\n",
       "      <th>Status</th>\n",
       "    </tr>\n",
       "  </thead>\n",
       "  <tbody>\n",
       "    <tr>\n",
       "      <th>Usia (tahun)</th>\n",
       "      <td>1.000000</td>\n",
       "      <td>0.037873</td>\n",
       "      <td>0.126405</td>\n",
       "      <td>-0.049768</td>\n",
       "    </tr>\n",
       "    <tr>\n",
       "      <th>Tinggi Badan (m)</th>\n",
       "      <td>0.037873</td>\n",
       "      <td>1.000000</td>\n",
       "      <td>0.552981</td>\n",
       "      <td>-0.822800</td>\n",
       "    </tr>\n",
       "    <tr>\n",
       "      <th>Berat Badan (kg)</th>\n",
       "      <td>0.126405</td>\n",
       "      <td>0.552981</td>\n",
       "      <td>1.000000</td>\n",
       "      <td>-0.520107</td>\n",
       "    </tr>\n",
       "    <tr>\n",
       "      <th>Status</th>\n",
       "      <td>-0.049768</td>\n",
       "      <td>-0.822800</td>\n",
       "      <td>-0.520107</td>\n",
       "      <td>1.000000</td>\n",
       "    </tr>\n",
       "  </tbody>\n",
       "</table>\n",
       "</div>"
      ],
      "text/plain": [
       "                  Usia (tahun)  Tinggi Badan (m)  Berat Badan (kg)    Status\n",
       "Usia (tahun)          1.000000          0.037873          0.126405 -0.049768\n",
       "Tinggi Badan (m)      0.037873          1.000000          0.552981 -0.822800\n",
       "Berat Badan (kg)      0.126405          0.552981          1.000000 -0.520107\n",
       "Status               -0.049768         -0.822800         -0.520107  1.000000"
      ]
     },
     "execution_count": 12,
     "metadata": {},
     "output_type": "execute_result"
    }
   ],
   "source": [
    "dataset.corr()"
   ]
  },
  {
   "cell_type": "code",
   "execution_count": 13,
   "metadata": {
    "colab": {
     "base_uri": "https://localhost:8080/"
    },
    "id": "J3ObHZ2DFrA_",
    "outputId": "88a32d53-a685-4bed-86e3-0a8886bc00ba"
   },
   "outputs": [],
   "source": [
    "#Output as labels\n",
    "Y = dataset['Status'].values.reshape(dataset.shape[0],)\n",
    "dataset = dataset.drop('Status',axis=1)\n",
    "data = dataset.values\n",
    "#Input as features\n",
    "X = data[:,0:data.shape[1]]\n",
    "\n",
    "#Splitting the Data into Training (90%) and Testing (10%)\n",
    "X_train, X_test, y_train, Y_test = train_test_split(X, Y, test_size=0.1)"
   ]
  },
  {
   "cell_type": "code",
   "execution_count": 14,
   "metadata": {
    "colab": {
     "base_uri": "https://localhost:8080/"
    },
    "id": "r1auHT6Eod3e",
    "outputId": "ed98874f-1b8d-494c-f309-fdc2846ef606"
   },
   "outputs": [
    {
     "name": "stdout",
     "output_type": "stream",
     "text": [
      "First five elements in X_train are:\n",
      " [[24.        1.6002   51.255896]\n",
      " [23.        1.6256   58.96696 ]\n",
      " [26.        1.6764   61.23492 ]\n",
      " [26.        1.7018   61.23492 ]\n",
      " [34.        1.6764   54.43104 ]]\n",
      "Type of X_train: <class 'numpy.ndarray'>\n"
     ]
    }
   ],
   "source": [
    "print(\"First five elements in X_train are:\\n\", X_train[:5])\n",
    "print(\"Type of X_train:\",type(X_train))"
   ]
  },
  {
   "cell_type": "code",
   "execution_count": 15,
   "metadata": {
    "colab": {
     "base_uri": "https://localhost:8080/"
    },
    "id": "b9jo1I5vogKR",
    "outputId": "547b4343-e051-46c2-d8b6-0ca51277e3c5"
   },
   "outputs": [
    {
     "name": "stdout",
     "output_type": "stream",
     "text": [
      "First five elements in y_train are:\n",
      " [0 0 0 0 0]\n",
      "Type of y_train: <class 'numpy.ndarray'>\n"
     ]
    }
   ],
   "source": [
    "print(\"First five elements in y_train are:\\n\", y_train[:5])\n",
    "print(\"Type of y_train:\",type(y_train))"
   ]
  },
  {
   "cell_type": "code",
   "execution_count": 16,
   "metadata": {
    "colab": {
     "base_uri": "https://localhost:8080/"
    },
    "id": "V7sUlFBQDw4L",
    "outputId": "dc4d01a2-5ffb-4e59-853a-cfdbeebd9228"
   },
   "outputs": [
    {
     "name": "stdout",
     "output_type": "stream",
     "text": [
      "The shape of X_train is: (1112, 3)\n",
      "The shape of y_train is: (1112,)\n",
      "We have m = 1112 training examples\n"
     ]
    }
   ],
   "source": [
    "#Check the dimensions of variables\n",
    "print(f'The shape of X_train is: {str(X_train.shape)}')\n",
    "print(f'The shape of y_train is: {str(y_train.shape)}')\n",
    "print(f'We have m = {len(y_train)} training examples')"
   ]
  },
  {
   "cell_type": "markdown",
   "metadata": {
    "id": "QOtmWuvCxYXT"
   },
   "source": [
    "**LOGISTIC REGRESSION MODEL**"
   ]
  },
  {
   "cell_type": "code",
   "execution_count": 17,
   "metadata": {
    "id": "9ScONOPX9x89"
   },
   "outputs": [],
   "source": [
    "# Membentuk fungsi aktivasi sigmoid untuk membuat model\n",
    "def sigmoid(z):\n",
    "  g = 1/(1+np.exp(-z))\n",
    "  return g"
   ]
  },
  {
   "cell_type": "code",
   "execution_count": 18,
   "metadata": {
    "id": "IffwmSNuxlCb"
   },
   "outputs": [],
   "source": [
    "# Mendefinisikan fungsi cost untuk evaluasi\n",
    "def compute_cost(X, y, w, b, *argv):\n",
    "\n",
    "    m, n = X.shape\n",
    "    \n",
    "    cost = 0.0\n",
    "    for i in range(m):\n",
    "        z_i = np.dot(X[i],w) + b\n",
    "        f_wb_i = sigmoid(z_i)\n",
    "        cost +=  -y[i]*np.log(f_wb_i) - (1-y[i])*np.log(1-f_wb_i)\n",
    "             \n",
    "    total_cost = cost / m\n",
    "\n",
    "    return total_cost"
   ]
  },
  {
   "cell_type": "code",
   "execution_count": 19,
   "metadata": {
    "id": "gL9PPPIGpJWP"
   },
   "outputs": [],
   "source": [
    "def compute_gradient(X, y, w, b, *argv): \n",
    "    m, n = X.shape\n",
    "    dj_dw = np.zeros(w.shape)\n",
    "    dj_db = 0.\n",
    "\n",
    "    for i in range(m):\n",
    "        z_wb = 0\n",
    "        for j in range(n): \n",
    "            z_wb += X[i, j] * w[j]\n",
    "        z_wb += b\n",
    "        f_wb = sigmoid(z_wb)\n",
    "        \n",
    "        dj_db_i = f_wb - y[i]\n",
    "        dj_db += dj_db_i\n",
    "        \n",
    "        for j in range(n):\n",
    "            dj_dw[j] += (f_wb - y[i]) * X[i][j]\n",
    "            \n",
    "    dj_dw = dj_dw/m\n",
    "    dj_db = dj_db/m\n",
    "        \n",
    "    return dj_db, dj_dw"
   ]
  },
  {
   "cell_type": "code",
   "execution_count": 21,
   "metadata": {
    "id": "Fb5-hSwKpovh"
   },
   "outputs": [],
   "source": [
    "def gradient_descent(X, y, w_in, b_in, cost_function, gradient_function, alpha, num_iters, lambda_): \n",
    "    \n",
    "    m = len(X)\n",
    "    J_history = []\n",
    "    w_history = []\n",
    "    \n",
    "    for i in range(num_iters):\n",
    "\n",
    "        dj_db, dj_dw = gradient_function(X, y, w_in, b_in, lambda_)   \n",
    "\n",
    "        w_in = w_in - alpha * dj_dw               \n",
    "        b_in = b_in - alpha * dj_db              \n",
    "       \n",
    "        if i<100000:      \n",
    "            cost =  cost_function(X, y, w_in, b_in, lambda_)\n",
    "            J_history.append(cost)\n",
    "        if i% math.ceil(num_iters/10) == 0 or i == (num_iters-1):\n",
    "            w_history.append(w_in)\n",
    "            print(f\"Iteration {i:4}: Cost {float(J_history[-1]):8.2f}   \")\n",
    "        \n",
    "    return w_in, b_in, J_history, w_history"
   ]
  },
  {
   "cell_type": "code",
   "execution_count": 22,
   "metadata": {
    "colab": {
     "base_uri": "https://localhost:8080/"
    },
    "id": "5C3eZAniqRuZ",
    "outputId": "0954535c-bca3-4de3-c987-e9321800346f"
   },
   "outputs": [
    {
     "name": "stdout",
     "output_type": "stream",
     "text": [
      "Iteration    0: Cost     5.61   \n",
      "Iteration  100: Cost     0.09   \n",
      "Iteration  200: Cost     0.08   \n",
      "Iteration  300: Cost     0.07   \n",
      "Iteration  400: Cost     0.06   \n",
      "Iteration  500: Cost     0.05   \n",
      "Iteration  600: Cost     0.05   \n",
      "Iteration  700: Cost     0.05   \n",
      "Iteration  800: Cost     0.04   \n",
      "Iteration  900: Cost     0.04   \n",
      "Iteration  999: Cost     0.04   \n"
     ]
    }
   ],
   "source": [
    "np.random.seed(1)\n",
    "initial_w = 0.01 * (np.random.rand(3) - 0.5)\n",
    "initial_b = 10\n",
    "\n",
    "iterations = 1000\n",
    "alpha = 0.001\n",
    "\n",
    "w,b, J_history,_ = gradient_descent(X_train ,y_train, initial_w, initial_b, \n",
    "                                   compute_cost, compute_gradient, alpha, iterations, 0)"
   ]
  },
  {
   "cell_type": "code",
   "execution_count": 24,
   "metadata": {
    "id": "TP1tWDvRHj8U"
   },
   "outputs": [],
   "source": [
    "def predict(X, w, b): \n",
    "  \n",
    "    m, n = X.shape   \n",
    "    p = np.zeros(m)\n",
    "   \n",
    "    for i in range(m):   \n",
    "        z_wb = 0\n",
    "        for j in range(n): \n",
    "            z_wb += X[i, j] * w[j]\n",
    "        \n",
    "        z_wb += b\n",
    "        \n",
    "        f_wb = sigmoid(z_wb)\n",
    "\n",
    "        p[i] = f_wb >= 0.5\n",
    "    return p"
   ]
  },
  {
   "cell_type": "code",
   "execution_count": 25,
   "metadata": {
    "colab": {
     "base_uri": "https://localhost:8080/"
    },
    "id": "8bU94TiWIcXI",
    "outputId": "f48814c1-657d-4973-8968-7ad02b89cb2a"
   },
   "outputs": [
    {
     "name": "stdout",
     "output_type": "stream",
     "text": [
      "Output of predict: shape (1,), value [1.]\n"
     ]
    }
   ],
   "source": [
    "# Tes model prediksi\n",
    "np.random.seed(1)\n",
    "tmp_w = np.random.randn(3)\n",
    "tmp_b = 0.3    \n",
    "tmp_X = np.array([[20., 1.5, 36]]) - 0.5\n",
    "\n",
    "tmp_p = predict(tmp_X, tmp_w, tmp_b)\n",
    "print(f'Output of predict: shape {tmp_p.shape}, value {tmp_p}')"
   ]
  },
  {
   "cell_type": "code",
   "execution_count": 26,
   "metadata": {
    "colab": {
     "base_uri": "https://localhost:8080/"
    },
    "id": "8LTctkDnI7zF",
    "outputId": "f8d2f135-4344-4fd8-c902-cd76a08771a5"
   },
   "outputs": [
    {
     "name": "stdout",
     "output_type": "stream",
     "text": [
      "Train Accuracy: 98.381295\n"
     ]
    }
   ],
   "source": [
    "# Menghitung akurasi model prediksi\n",
    "p = predict(X_test, w,b)\n",
    "print('Train Accuracy: %f'%(np.mean(p == y_test) * 100))"
   ]
  },
  {
   "cell_type": "code",
   "execution_count": 27,
   "metadata": {
    "id": "rGjX7Ijsbwh7"
   },
   "outputs": [],
   "source": [
    "import pickle\n",
    "\n",
    "with open(\"predict.pkl\", \"wb\") as file:\n",
    "  pickle.dump(predict, file)"
   ]
  },
  {
   "cell_type": "code",
   "execution_count": 28,
   "metadata": {},
   "outputs": [],
   "source": [
    "import pickle\n",
    "\n",
    "with open(\"predict.pkl\", \"rb\") as file:\n",
    "  model = pickle.load(file)"
   ]
  },
  {
   "cell_type": "code",
   "execution_count": 29,
   "metadata": {},
   "outputs": [],
   "source": [
    "import tensorflow as tf\n"
   ]
  },
  {
   "cell_type": "code",
   "execution_count": 30,
   "metadata": {},
   "outputs": [],
   "source": [
    "# Menentukan input layer\n",
    "input_layer = tf.keras.Input(shape=(3,))  # Ubah 3 sesuai dengan jumlah fitur input Anda\n",
    "\n",
    "# Menambahkan layer Dense (fully connected layer) dengan aktivasi sigmoid\n",
    "dense_layer = tf.keras.layers.Dense(1, activation='sigmoid')(input_layer)\n",
    "\n",
    "# Menggabungkan input layer dan dense layer menjadi model\n",
    "model_tf = tf.keras.Model(inputs=input_layer, outputs=dense_layer)\n"
   ]
  },
  {
   "cell_type": "code",
   "execution_count": 31,
   "metadata": {},
   "outputs": [
    {
     "name": "stdout",
     "output_type": "stream",
     "text": [
      "INFO:tensorflow:Assets written to: C:\\Users\\ASUS\\AppData\\Local\\Temp\\tmp5j5snoo0\\assets\n"
     ]
    }
   ],
   "source": [
    "# Mengonversi model TensorFlow menjadi model TFLite\n",
    "converter = tf.lite.TFLiteConverter.from_keras_model(model_tf)\n",
    "tflite_model = converter.convert()\n"
   ]
  },
  {
   "cell_type": "code",
   "execution_count": null,
   "metadata": {},
   "outputs": [],
   "source": [
    "# Menyimpan model TFLite ke file\n",
    "with open(\"model.tflite\", \"wb\") as file:\n",
    "  file.write(tflite_model)\n"
   ]
  }
 ],
 "metadata": {
  "colab": {
   "provenance": []
  },
  "kernelspec": {
   "display_name": "Python 3.9.7 64-bit",
   "language": "python",
   "name": "python3"
  },
  "language_info": {
   "codemirror_mode": {
    "name": "ipython",
    "version": 3
   },
   "file_extension": ".py",
   "mimetype": "text/x-python",
   "name": "python",
   "nbconvert_exporter": "python",
   "pygments_lexer": "ipython3",
   "version": "3.9.7"
  },
  "vscode": {
   "interpreter": {
    "hash": "14958d3aee5f1cad06795f787e54b96185c25fb40dfec723a5be941f3a531b8c"
   }
  }
 },
 "nbformat": 4,
 "nbformat_minor": 1
}
