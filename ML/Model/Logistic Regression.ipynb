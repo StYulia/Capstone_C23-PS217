{
  "cells": [
    {
      "cell_type": "markdown",
      "metadata": {
        "id": "abItnjNvCKY4"
      },
      "source": [
        "#PACKAGES"
      ]
    },
    {
      "cell_type": "code",
      "execution_count": 58,
      "metadata": {
        "id": "a_8df4Q5B4rz"
      },
      "outputs": [],
      "source": [
        "import pandas as pd\n",
        "import numpy as np\n",
        "import copy\n",
        "import math\n",
        "from sklearn.model_selection import train_test_split\n",
        "\n",
        "%matplotlib inline"
      ]
    },
    {
      "cell_type": "code",
      "execution_count": 59,
      "metadata": {
        "colab": {
          "base_uri": "https://localhost:8080/"
        },
        "id": "E_Mw-Z6fWAnN",
        "outputId": "d2593f59-eeec-4b4d-f979-19131ef6649f"
      },
      "outputs": [
        {
          "output_type": "stream",
          "name": "stdout",
          "text": [
            "Looking in indexes: https://pypi.org/simple, https://us-python.pkg.dev/colab-wheels/public/simple/\n",
            "Requirement already satisfied: utils in /usr/local/lib/python3.10/dist-packages (1.0.1)\n"
          ]
        }
      ],
      "source": [
        "!pip install utils\n",
        "from utils import *"
      ]
    },
    {
      "cell_type": "code",
      "execution_count": 60,
      "metadata": {
        "colab": {
          "base_uri": "https://localhost:8080/",
          "height": 540
        },
        "id": "rfErc6j9BsH6",
        "outputId": "1f67f5f9-7379-496a-857f-e6a454c49f22"
      },
      "outputs": [
        {
          "output_type": "execute_result",
          "data": {
            "text/plain": [
              "      Usia (tahun)  Tinggi Badan (m)  Berat Badan (kg) Klasifikasi  \\\n",
              "0             27.0            1.5748         45.359200      Normal   \n",
              "1             33.0            1.6256         61.234920       Gemuk   \n",
              "2             28.0            1.6256         52.163080      Normal   \n",
              "3             23.0            1.7018         56.699000      Normal   \n",
              "4             25.0            1.5748         42.184056      Normal   \n",
              "...            ...               ...               ...         ...   \n",
              "1179          27.0            1.5240         45.359200      Normal   \n",
              "1180          24.0            1.7018         54.431040      Normal   \n",
              "1181          30.0            1.6510         68.038800       Gemuk   \n",
              "1182          21.0            1.6510         49.895120      Normal   \n",
              "1183          38.0            1.6510         58.513368      Normal   \n",
              "\n",
              "      IMT (kg/m2)  Lama Kehamilan (hari)  Berat Lahir Bayi (kg)  Status  \n",
              "0       18.290037                  284.0               3.401940       0  \n",
              "1       23.172440                  282.0               3.203493       0  \n",
              "2       19.739486                  279.0               3.628736       0  \n",
              "3       19.577551                  282.0               3.061746       0  \n",
              "4       17.009734                  286.0               3.855532       0  \n",
              "...           ...                    ...                    ...     ...  \n",
              "1179    19.529695                  275.0               3.203493       0  \n",
              "1180    18.794449                  265.0               3.628736       0  \n",
              "1181    24.961030                  291.0               3.685435       0  \n",
              "1182    18.304755                  281.0               3.543687       0  \n",
              "1183    21.466486                  297.0               3.316892       0  \n",
              "\n",
              "[1184 rows x 8 columns]"
            ],
            "text/html": [
              "\n",
              "  <div id=\"df-5b616d63-e6a2-473f-8d5b-012f5d400b7e\">\n",
              "    <div class=\"colab-df-container\">\n",
              "      <div>\n",
              "<style scoped>\n",
              "    .dataframe tbody tr th:only-of-type {\n",
              "        vertical-align: middle;\n",
              "    }\n",
              "\n",
              "    .dataframe tbody tr th {\n",
              "        vertical-align: top;\n",
              "    }\n",
              "\n",
              "    .dataframe thead th {\n",
              "        text-align: right;\n",
              "    }\n",
              "</style>\n",
              "<table border=\"1\" class=\"dataframe\">\n",
              "  <thead>\n",
              "    <tr style=\"text-align: right;\">\n",
              "      <th></th>\n",
              "      <th>Usia (tahun)</th>\n",
              "      <th>Tinggi Badan (m)</th>\n",
              "      <th>Berat Badan (kg)</th>\n",
              "      <th>Klasifikasi</th>\n",
              "      <th>IMT (kg/m2)</th>\n",
              "      <th>Lama Kehamilan (hari)</th>\n",
              "      <th>Berat Lahir Bayi (kg)</th>\n",
              "      <th>Status</th>\n",
              "    </tr>\n",
              "  </thead>\n",
              "  <tbody>\n",
              "    <tr>\n",
              "      <th>0</th>\n",
              "      <td>27.0</td>\n",
              "      <td>1.5748</td>\n",
              "      <td>45.359200</td>\n",
              "      <td>Normal</td>\n",
              "      <td>18.290037</td>\n",
              "      <td>284.0</td>\n",
              "      <td>3.401940</td>\n",
              "      <td>0</td>\n",
              "    </tr>\n",
              "    <tr>\n",
              "      <th>1</th>\n",
              "      <td>33.0</td>\n",
              "      <td>1.6256</td>\n",
              "      <td>61.234920</td>\n",
              "      <td>Gemuk</td>\n",
              "      <td>23.172440</td>\n",
              "      <td>282.0</td>\n",
              "      <td>3.203493</td>\n",
              "      <td>0</td>\n",
              "    </tr>\n",
              "    <tr>\n",
              "      <th>2</th>\n",
              "      <td>28.0</td>\n",
              "      <td>1.6256</td>\n",
              "      <td>52.163080</td>\n",
              "      <td>Normal</td>\n",
              "      <td>19.739486</td>\n",
              "      <td>279.0</td>\n",
              "      <td>3.628736</td>\n",
              "      <td>0</td>\n",
              "    </tr>\n",
              "    <tr>\n",
              "      <th>3</th>\n",
              "      <td>23.0</td>\n",
              "      <td>1.7018</td>\n",
              "      <td>56.699000</td>\n",
              "      <td>Normal</td>\n",
              "      <td>19.577551</td>\n",
              "      <td>282.0</td>\n",
              "      <td>3.061746</td>\n",
              "      <td>0</td>\n",
              "    </tr>\n",
              "    <tr>\n",
              "      <th>4</th>\n",
              "      <td>25.0</td>\n",
              "      <td>1.5748</td>\n",
              "      <td>42.184056</td>\n",
              "      <td>Normal</td>\n",
              "      <td>17.009734</td>\n",
              "      <td>286.0</td>\n",
              "      <td>3.855532</td>\n",
              "      <td>0</td>\n",
              "    </tr>\n",
              "    <tr>\n",
              "      <th>...</th>\n",
              "      <td>...</td>\n",
              "      <td>...</td>\n",
              "      <td>...</td>\n",
              "      <td>...</td>\n",
              "      <td>...</td>\n",
              "      <td>...</td>\n",
              "      <td>...</td>\n",
              "      <td>...</td>\n",
              "    </tr>\n",
              "    <tr>\n",
              "      <th>1179</th>\n",
              "      <td>27.0</td>\n",
              "      <td>1.5240</td>\n",
              "      <td>45.359200</td>\n",
              "      <td>Normal</td>\n",
              "      <td>19.529695</td>\n",
              "      <td>275.0</td>\n",
              "      <td>3.203493</td>\n",
              "      <td>0</td>\n",
              "    </tr>\n",
              "    <tr>\n",
              "      <th>1180</th>\n",
              "      <td>24.0</td>\n",
              "      <td>1.7018</td>\n",
              "      <td>54.431040</td>\n",
              "      <td>Normal</td>\n",
              "      <td>18.794449</td>\n",
              "      <td>265.0</td>\n",
              "      <td>3.628736</td>\n",
              "      <td>0</td>\n",
              "    </tr>\n",
              "    <tr>\n",
              "      <th>1181</th>\n",
              "      <td>30.0</td>\n",
              "      <td>1.6510</td>\n",
              "      <td>68.038800</td>\n",
              "      <td>Gemuk</td>\n",
              "      <td>24.961030</td>\n",
              "      <td>291.0</td>\n",
              "      <td>3.685435</td>\n",
              "      <td>0</td>\n",
              "    </tr>\n",
              "    <tr>\n",
              "      <th>1182</th>\n",
              "      <td>21.0</td>\n",
              "      <td>1.6510</td>\n",
              "      <td>49.895120</td>\n",
              "      <td>Normal</td>\n",
              "      <td>18.304755</td>\n",
              "      <td>281.0</td>\n",
              "      <td>3.543687</td>\n",
              "      <td>0</td>\n",
              "    </tr>\n",
              "    <tr>\n",
              "      <th>1183</th>\n",
              "      <td>38.0</td>\n",
              "      <td>1.6510</td>\n",
              "      <td>58.513368</td>\n",
              "      <td>Normal</td>\n",
              "      <td>21.466486</td>\n",
              "      <td>297.0</td>\n",
              "      <td>3.316892</td>\n",
              "      <td>0</td>\n",
              "    </tr>\n",
              "  </tbody>\n",
              "</table>\n",
              "<p>1184 rows × 8 columns</p>\n",
              "</div>\n",
              "      <button class=\"colab-df-convert\" onclick=\"convertToInteractive('df-5b616d63-e6a2-473f-8d5b-012f5d400b7e')\"\n",
              "              title=\"Convert this dataframe to an interactive table.\"\n",
              "              style=\"display:none;\">\n",
              "        \n",
              "  <svg xmlns=\"http://www.w3.org/2000/svg\" height=\"24px\"viewBox=\"0 0 24 24\"\n",
              "       width=\"24px\">\n",
              "    <path d=\"M0 0h24v24H0V0z\" fill=\"none\"/>\n",
              "    <path d=\"M18.56 5.44l.94 2.06.94-2.06 2.06-.94-2.06-.94-.94-2.06-.94 2.06-2.06.94zm-11 1L8.5 8.5l.94-2.06 2.06-.94-2.06-.94L8.5 2.5l-.94 2.06-2.06.94zm10 10l.94 2.06.94-2.06 2.06-.94-2.06-.94-.94-2.06-.94 2.06-2.06.94z\"/><path d=\"M17.41 7.96l-1.37-1.37c-.4-.4-.92-.59-1.43-.59-.52 0-1.04.2-1.43.59L10.3 9.45l-7.72 7.72c-.78.78-.78 2.05 0 2.83L4 21.41c.39.39.9.59 1.41.59.51 0 1.02-.2 1.41-.59l7.78-7.78 2.81-2.81c.8-.78.8-2.07 0-2.86zM5.41 20L4 18.59l7.72-7.72 1.47 1.35L5.41 20z\"/>\n",
              "  </svg>\n",
              "      </button>\n",
              "      \n",
              "  <style>\n",
              "    .colab-df-container {\n",
              "      display:flex;\n",
              "      flex-wrap:wrap;\n",
              "      gap: 12px;\n",
              "    }\n",
              "\n",
              "    .colab-df-convert {\n",
              "      background-color: #E8F0FE;\n",
              "      border: none;\n",
              "      border-radius: 50%;\n",
              "      cursor: pointer;\n",
              "      display: none;\n",
              "      fill: #1967D2;\n",
              "      height: 32px;\n",
              "      padding: 0 0 0 0;\n",
              "      width: 32px;\n",
              "    }\n",
              "\n",
              "    .colab-df-convert:hover {\n",
              "      background-color: #E2EBFA;\n",
              "      box-shadow: 0px 1px 2px rgba(60, 64, 67, 0.3), 0px 1px 3px 1px rgba(60, 64, 67, 0.15);\n",
              "      fill: #174EA6;\n",
              "    }\n",
              "\n",
              "    [theme=dark] .colab-df-convert {\n",
              "      background-color: #3B4455;\n",
              "      fill: #D2E3FC;\n",
              "    }\n",
              "\n",
              "    [theme=dark] .colab-df-convert:hover {\n",
              "      background-color: #434B5C;\n",
              "      box-shadow: 0px 1px 3px 1px rgba(0, 0, 0, 0.15);\n",
              "      filter: drop-shadow(0px 1px 2px rgba(0, 0, 0, 0.3));\n",
              "      fill: #FFFFFF;\n",
              "    }\n",
              "  </style>\n",
              "\n",
              "      <script>\n",
              "        const buttonEl =\n",
              "          document.querySelector('#df-5b616d63-e6a2-473f-8d5b-012f5d400b7e button.colab-df-convert');\n",
              "        buttonEl.style.display =\n",
              "          google.colab.kernel.accessAllowed ? 'block' : 'none';\n",
              "\n",
              "        async function convertToInteractive(key) {\n",
              "          const element = document.querySelector('#df-5b616d63-e6a2-473f-8d5b-012f5d400b7e');\n",
              "          const dataTable =\n",
              "            await google.colab.kernel.invokeFunction('convertToInteractive',\n",
              "                                                     [key], {});\n",
              "          if (!dataTable) return;\n",
              "\n",
              "          const docLinkHtml = 'Like what you see? Visit the ' +\n",
              "            '<a target=\"_blank\" href=https://colab.research.google.com/notebooks/data_table.ipynb>data table notebook</a>'\n",
              "            + ' to learn more about interactive tables.';\n",
              "          element.innerHTML = '';\n",
              "          dataTable['output_type'] = 'display_data';\n",
              "          await google.colab.output.renderOutput(dataTable, element);\n",
              "          const docLink = document.createElement('div');\n",
              "          docLink.innerHTML = docLinkHtml;\n",
              "          element.appendChild(docLink);\n",
              "        }\n",
              "      </script>\n",
              "    </div>\n",
              "  </div>\n",
              "  "
            ]
          },
          "metadata": {},
          "execution_count": 60
        }
      ],
      "source": [
        "dataset = pd.read_csv(\"/content/profil_ibu.csv\")\n",
        "dataset"
      ]
    },
    {
      "cell_type": "code",
      "execution_count": 61,
      "metadata": {
        "colab": {
          "base_uri": "https://localhost:8080/"
        },
        "id": "BUp7QmbubfRG",
        "outputId": "eaf3d651-6c09-431b-a20d-f8168d139fc3"
      },
      "outputs": [
        {
          "output_type": "execute_result",
          "data": {
            "text/plain": [
              "(1184, 8)"
            ]
          },
          "metadata": {},
          "execution_count": 61
        }
      ],
      "source": [
        "dataset.shape"
      ]
    },
    {
      "cell_type": "code",
      "execution_count": 62,
      "metadata": {
        "colab": {
          "base_uri": "https://localhost:8080/"
        },
        "id": "t38NSQ9obTQW",
        "outputId": "a43b150f-09fa-4b9a-d156-fbcd26c350fb"
      },
      "outputs": [
        {
          "output_type": "stream",
          "name": "stdout",
          "text": [
            "<class 'pandas.core.frame.DataFrame'>\n",
            "RangeIndex: 1184 entries, 0 to 1183\n",
            "Data columns (total 8 columns):\n",
            " #   Column                 Non-Null Count  Dtype  \n",
            "---  ------                 --------------  -----  \n",
            " 0   Usia (tahun)           1184 non-null   float64\n",
            " 1   Tinggi Badan (m)       1184 non-null   float64\n",
            " 2   Berat Badan (kg)       1184 non-null   float64\n",
            " 3   Klasifikasi            1184 non-null   object \n",
            " 4   IMT (kg/m2)            1184 non-null   float64\n",
            " 5   Lama Kehamilan (hari)  1184 non-null   float64\n",
            " 6   Berat Lahir Bayi (kg)  1184 non-null   float64\n",
            " 7   Status                 1184 non-null   int64  \n",
            "dtypes: float64(6), int64(1), object(1)\n",
            "memory usage: 74.1+ KB\n"
          ]
        }
      ],
      "source": [
        "dataset.info()"
      ]
    },
    {
      "cell_type": "code",
      "execution_count": 63,
      "metadata": {
        "colab": {
          "base_uri": "https://localhost:8080/",
          "height": 399
        },
        "id": "K88xhyAbfkMo",
        "outputId": "bb379d0e-acf4-40a0-b249-c72e30557a9b"
      },
      "outputs": [
        {
          "output_type": "execute_result",
          "data": {
            "text/plain": [
              "       Usia (tahun)  Tinggi Badan (m)  Berat Badan (kg)  IMT (kg/m2)  \\\n",
              "count   1184.000000       1184.000000       1184.000000  1184.000000   \n",
              "mean      27.252534          1.626909         58.317986    22.013814   \n",
              "std        5.809420          0.064175          9.432494     3.230163   \n",
              "min       15.000000          1.346200         39.462504    15.662041   \n",
              "25%       23.000000          1.574800         52.049682    19.935794   \n",
              "50%       26.000000          1.625600         56.699000    21.284316   \n",
              "75%       31.000000          1.676400         63.162686    23.382492   \n",
              "max       45.000000          1.828800        113.398000    40.350609   \n",
              "\n",
              "       Lama Kehamilan (hari)  Berat Lahir Bayi (kg)       Status  \n",
              "count            1184.000000            1184.000000  1184.000000  \n",
              "mean              279.129223               3.388436     0.002534  \n",
              "std                15.976875               0.520551     0.050294  \n",
              "min               148.000000               1.559222     0.000000  \n",
              "25%               272.000000               3.061746     0.000000  \n",
              "50%               280.000000               3.401940     0.000000  \n",
              "75%               288.000000               3.713785     0.000000  \n",
              "max               353.000000               4.989512     1.000000  "
            ],
            "text/html": [
              "\n",
              "  <div id=\"df-03331d2a-1361-41da-a0a3-d4f53d51c56f\">\n",
              "    <div class=\"colab-df-container\">\n",
              "      <div>\n",
              "<style scoped>\n",
              "    .dataframe tbody tr th:only-of-type {\n",
              "        vertical-align: middle;\n",
              "    }\n",
              "\n",
              "    .dataframe tbody tr th {\n",
              "        vertical-align: top;\n",
              "    }\n",
              "\n",
              "    .dataframe thead th {\n",
              "        text-align: right;\n",
              "    }\n",
              "</style>\n",
              "<table border=\"1\" class=\"dataframe\">\n",
              "  <thead>\n",
              "    <tr style=\"text-align: right;\">\n",
              "      <th></th>\n",
              "      <th>Usia (tahun)</th>\n",
              "      <th>Tinggi Badan (m)</th>\n",
              "      <th>Berat Badan (kg)</th>\n",
              "      <th>IMT (kg/m2)</th>\n",
              "      <th>Lama Kehamilan (hari)</th>\n",
              "      <th>Berat Lahir Bayi (kg)</th>\n",
              "      <th>Status</th>\n",
              "    </tr>\n",
              "  </thead>\n",
              "  <tbody>\n",
              "    <tr>\n",
              "      <th>count</th>\n",
              "      <td>1184.000000</td>\n",
              "      <td>1184.000000</td>\n",
              "      <td>1184.000000</td>\n",
              "      <td>1184.000000</td>\n",
              "      <td>1184.000000</td>\n",
              "      <td>1184.000000</td>\n",
              "      <td>1184.000000</td>\n",
              "    </tr>\n",
              "    <tr>\n",
              "      <th>mean</th>\n",
              "      <td>27.252534</td>\n",
              "      <td>1.626909</td>\n",
              "      <td>58.317986</td>\n",
              "      <td>22.013814</td>\n",
              "      <td>279.129223</td>\n",
              "      <td>3.388436</td>\n",
              "      <td>0.002534</td>\n",
              "    </tr>\n",
              "    <tr>\n",
              "      <th>std</th>\n",
              "      <td>5.809420</td>\n",
              "      <td>0.064175</td>\n",
              "      <td>9.432494</td>\n",
              "      <td>3.230163</td>\n",
              "      <td>15.976875</td>\n",
              "      <td>0.520551</td>\n",
              "      <td>0.050294</td>\n",
              "    </tr>\n",
              "    <tr>\n",
              "      <th>min</th>\n",
              "      <td>15.000000</td>\n",
              "      <td>1.346200</td>\n",
              "      <td>39.462504</td>\n",
              "      <td>15.662041</td>\n",
              "      <td>148.000000</td>\n",
              "      <td>1.559222</td>\n",
              "      <td>0.000000</td>\n",
              "    </tr>\n",
              "    <tr>\n",
              "      <th>25%</th>\n",
              "      <td>23.000000</td>\n",
              "      <td>1.574800</td>\n",
              "      <td>52.049682</td>\n",
              "      <td>19.935794</td>\n",
              "      <td>272.000000</td>\n",
              "      <td>3.061746</td>\n",
              "      <td>0.000000</td>\n",
              "    </tr>\n",
              "    <tr>\n",
              "      <th>50%</th>\n",
              "      <td>26.000000</td>\n",
              "      <td>1.625600</td>\n",
              "      <td>56.699000</td>\n",
              "      <td>21.284316</td>\n",
              "      <td>280.000000</td>\n",
              "      <td>3.401940</td>\n",
              "      <td>0.000000</td>\n",
              "    </tr>\n",
              "    <tr>\n",
              "      <th>75%</th>\n",
              "      <td>31.000000</td>\n",
              "      <td>1.676400</td>\n",
              "      <td>63.162686</td>\n",
              "      <td>23.382492</td>\n",
              "      <td>288.000000</td>\n",
              "      <td>3.713785</td>\n",
              "      <td>0.000000</td>\n",
              "    </tr>\n",
              "    <tr>\n",
              "      <th>max</th>\n",
              "      <td>45.000000</td>\n",
              "      <td>1.828800</td>\n",
              "      <td>113.398000</td>\n",
              "      <td>40.350609</td>\n",
              "      <td>353.000000</td>\n",
              "      <td>4.989512</td>\n",
              "      <td>1.000000</td>\n",
              "    </tr>\n",
              "  </tbody>\n",
              "</table>\n",
              "</div>\n",
              "      <button class=\"colab-df-convert\" onclick=\"convertToInteractive('df-03331d2a-1361-41da-a0a3-d4f53d51c56f')\"\n",
              "              title=\"Convert this dataframe to an interactive table.\"\n",
              "              style=\"display:none;\">\n",
              "        \n",
              "  <svg xmlns=\"http://www.w3.org/2000/svg\" height=\"24px\"viewBox=\"0 0 24 24\"\n",
              "       width=\"24px\">\n",
              "    <path d=\"M0 0h24v24H0V0z\" fill=\"none\"/>\n",
              "    <path d=\"M18.56 5.44l.94 2.06.94-2.06 2.06-.94-2.06-.94-.94-2.06-.94 2.06-2.06.94zm-11 1L8.5 8.5l.94-2.06 2.06-.94-2.06-.94L8.5 2.5l-.94 2.06-2.06.94zm10 10l.94 2.06.94-2.06 2.06-.94-2.06-.94-.94-2.06-.94 2.06-2.06.94z\"/><path d=\"M17.41 7.96l-1.37-1.37c-.4-.4-.92-.59-1.43-.59-.52 0-1.04.2-1.43.59L10.3 9.45l-7.72 7.72c-.78.78-.78 2.05 0 2.83L4 21.41c.39.39.9.59 1.41.59.51 0 1.02-.2 1.41-.59l7.78-7.78 2.81-2.81c.8-.78.8-2.07 0-2.86zM5.41 20L4 18.59l7.72-7.72 1.47 1.35L5.41 20z\"/>\n",
              "  </svg>\n",
              "      </button>\n",
              "      \n",
              "  <style>\n",
              "    .colab-df-container {\n",
              "      display:flex;\n",
              "      flex-wrap:wrap;\n",
              "      gap: 12px;\n",
              "    }\n",
              "\n",
              "    .colab-df-convert {\n",
              "      background-color: #E8F0FE;\n",
              "      border: none;\n",
              "      border-radius: 50%;\n",
              "      cursor: pointer;\n",
              "      display: none;\n",
              "      fill: #1967D2;\n",
              "      height: 32px;\n",
              "      padding: 0 0 0 0;\n",
              "      width: 32px;\n",
              "    }\n",
              "\n",
              "    .colab-df-convert:hover {\n",
              "      background-color: #E2EBFA;\n",
              "      box-shadow: 0px 1px 2px rgba(60, 64, 67, 0.3), 0px 1px 3px 1px rgba(60, 64, 67, 0.15);\n",
              "      fill: #174EA6;\n",
              "    }\n",
              "\n",
              "    [theme=dark] .colab-df-convert {\n",
              "      background-color: #3B4455;\n",
              "      fill: #D2E3FC;\n",
              "    }\n",
              "\n",
              "    [theme=dark] .colab-df-convert:hover {\n",
              "      background-color: #434B5C;\n",
              "      box-shadow: 0px 1px 3px 1px rgba(0, 0, 0, 0.15);\n",
              "      filter: drop-shadow(0px 1px 2px rgba(0, 0, 0, 0.3));\n",
              "      fill: #FFFFFF;\n",
              "    }\n",
              "  </style>\n",
              "\n",
              "      <script>\n",
              "        const buttonEl =\n",
              "          document.querySelector('#df-03331d2a-1361-41da-a0a3-d4f53d51c56f button.colab-df-convert');\n",
              "        buttonEl.style.display =\n",
              "          google.colab.kernel.accessAllowed ? 'block' : 'none';\n",
              "\n",
              "        async function convertToInteractive(key) {\n",
              "          const element = document.querySelector('#df-03331d2a-1361-41da-a0a3-d4f53d51c56f');\n",
              "          const dataTable =\n",
              "            await google.colab.kernel.invokeFunction('convertToInteractive',\n",
              "                                                     [key], {});\n",
              "          if (!dataTable) return;\n",
              "\n",
              "          const docLinkHtml = 'Like what you see? Visit the ' +\n",
              "            '<a target=\"_blank\" href=https://colab.research.google.com/notebooks/data_table.ipynb>data table notebook</a>'\n",
              "            + ' to learn more about interactive tables.';\n",
              "          element.innerHTML = '';\n",
              "          dataTable['output_type'] = 'display_data';\n",
              "          await google.colab.output.renderOutput(dataTable, element);\n",
              "          const docLink = document.createElement('div');\n",
              "          docLink.innerHTML = docLinkHtml;\n",
              "          element.appendChild(docLink);\n",
              "        }\n",
              "      </script>\n",
              "    </div>\n",
              "  </div>\n",
              "  "
            ]
          },
          "metadata": {},
          "execution_count": 63
        }
      ],
      "source": [
        "dataset.describe()"
      ]
    },
    {
      "cell_type": "code",
      "source": [
        "dataset.corr()"
      ],
      "metadata": {
        "colab": {
          "base_uri": "https://localhost:8080/",
          "height": 576
        },
        "id": "ggGGA72UHNLR",
        "outputId": "4770a221-6ef5-4d02-b283-8ac759bdb1f4"
      },
      "execution_count": 64,
      "outputs": [
        {
          "output_type": "stream",
          "name": "stderr",
          "text": [
            "<ipython-input-64-c187c74d1e71>:1: FutureWarning: The default value of numeric_only in DataFrame.corr is deprecated. In a future version, it will default to False. Select only valid columns or specify the value of numeric_only to silence this warning.\n",
            "  dataset.corr()\n"
          ]
        },
        {
          "output_type": "execute_result",
          "data": {
            "text/plain": [
              "                       Usia (tahun)  Tinggi Badan (m)  Berat Badan (kg)  \\\n",
              "Usia (tahun)               1.000000         -0.005091          0.147596   \n",
              "Tinggi Badan (m)          -0.005091          1.000000          0.436313   \n",
              "Berat Badan (kg)           0.147596          0.436313          1.000000   \n",
              "IMT (kg/m2)                0.164977         -0.059922          0.869058   \n",
              "Lama Kehamilan (hari)     -0.050761          0.068583          0.022265   \n",
              "Berat Lahir Bayi (kg)      0.031162          0.201066          0.155568   \n",
              "Status                    -0.016657         -0.120767         -0.090286   \n",
              "\n",
              "                       IMT (kg/m2)  Lama Kehamilan (hari)  \\\n",
              "Usia (tahun)              0.164977              -0.050761   \n",
              "Tinggi Badan (m)         -0.059922               0.068583   \n",
              "Berat Badan (kg)          0.869058               0.022265   \n",
              "IMT (kg/m2)               1.000000              -0.012380   \n",
              "Lama Kehamilan (hari)    -0.012380               1.000000   \n",
              "Berat Lahir Bayi (kg)     0.065033               0.410339   \n",
              "Status                   -0.044926              -0.023551   \n",
              "\n",
              "                       Berat Lahir Bayi (kg)    Status  \n",
              "Usia (tahun)                        0.031162 -0.016657  \n",
              "Tinggi Badan (m)                    0.201066 -0.120767  \n",
              "Berat Badan (kg)                    0.155568 -0.090286  \n",
              "IMT (kg/m2)                         0.065033 -0.044926  \n",
              "Lama Kehamilan (hari)               0.410339 -0.023551  \n",
              "Berat Lahir Bayi (kg)               1.000000 -0.030729  \n",
              "Status                             -0.030729  1.000000  "
            ],
            "text/html": [
              "\n",
              "  <div id=\"df-de14e4e1-96fd-439f-b904-8553f01e72c1\">\n",
              "    <div class=\"colab-df-container\">\n",
              "      <div>\n",
              "<style scoped>\n",
              "    .dataframe tbody tr th:only-of-type {\n",
              "        vertical-align: middle;\n",
              "    }\n",
              "\n",
              "    .dataframe tbody tr th {\n",
              "        vertical-align: top;\n",
              "    }\n",
              "\n",
              "    .dataframe thead th {\n",
              "        text-align: right;\n",
              "    }\n",
              "</style>\n",
              "<table border=\"1\" class=\"dataframe\">\n",
              "  <thead>\n",
              "    <tr style=\"text-align: right;\">\n",
              "      <th></th>\n",
              "      <th>Usia (tahun)</th>\n",
              "      <th>Tinggi Badan (m)</th>\n",
              "      <th>Berat Badan (kg)</th>\n",
              "      <th>IMT (kg/m2)</th>\n",
              "      <th>Lama Kehamilan (hari)</th>\n",
              "      <th>Berat Lahir Bayi (kg)</th>\n",
              "      <th>Status</th>\n",
              "    </tr>\n",
              "  </thead>\n",
              "  <tbody>\n",
              "    <tr>\n",
              "      <th>Usia (tahun)</th>\n",
              "      <td>1.000000</td>\n",
              "      <td>-0.005091</td>\n",
              "      <td>0.147596</td>\n",
              "      <td>0.164977</td>\n",
              "      <td>-0.050761</td>\n",
              "      <td>0.031162</td>\n",
              "      <td>-0.016657</td>\n",
              "    </tr>\n",
              "    <tr>\n",
              "      <th>Tinggi Badan (m)</th>\n",
              "      <td>-0.005091</td>\n",
              "      <td>1.000000</td>\n",
              "      <td>0.436313</td>\n",
              "      <td>-0.059922</td>\n",
              "      <td>0.068583</td>\n",
              "      <td>0.201066</td>\n",
              "      <td>-0.120767</td>\n",
              "    </tr>\n",
              "    <tr>\n",
              "      <th>Berat Badan (kg)</th>\n",
              "      <td>0.147596</td>\n",
              "      <td>0.436313</td>\n",
              "      <td>1.000000</td>\n",
              "      <td>0.869058</td>\n",
              "      <td>0.022265</td>\n",
              "      <td>0.155568</td>\n",
              "      <td>-0.090286</td>\n",
              "    </tr>\n",
              "    <tr>\n",
              "      <th>IMT (kg/m2)</th>\n",
              "      <td>0.164977</td>\n",
              "      <td>-0.059922</td>\n",
              "      <td>0.869058</td>\n",
              "      <td>1.000000</td>\n",
              "      <td>-0.012380</td>\n",
              "      <td>0.065033</td>\n",
              "      <td>-0.044926</td>\n",
              "    </tr>\n",
              "    <tr>\n",
              "      <th>Lama Kehamilan (hari)</th>\n",
              "      <td>-0.050761</td>\n",
              "      <td>0.068583</td>\n",
              "      <td>0.022265</td>\n",
              "      <td>-0.012380</td>\n",
              "      <td>1.000000</td>\n",
              "      <td>0.410339</td>\n",
              "      <td>-0.023551</td>\n",
              "    </tr>\n",
              "    <tr>\n",
              "      <th>Berat Lahir Bayi (kg)</th>\n",
              "      <td>0.031162</td>\n",
              "      <td>0.201066</td>\n",
              "      <td>0.155568</td>\n",
              "      <td>0.065033</td>\n",
              "      <td>0.410339</td>\n",
              "      <td>1.000000</td>\n",
              "      <td>-0.030729</td>\n",
              "    </tr>\n",
              "    <tr>\n",
              "      <th>Status</th>\n",
              "      <td>-0.016657</td>\n",
              "      <td>-0.120767</td>\n",
              "      <td>-0.090286</td>\n",
              "      <td>-0.044926</td>\n",
              "      <td>-0.023551</td>\n",
              "      <td>-0.030729</td>\n",
              "      <td>1.000000</td>\n",
              "    </tr>\n",
              "  </tbody>\n",
              "</table>\n",
              "</div>\n",
              "      <button class=\"colab-df-convert\" onclick=\"convertToInteractive('df-de14e4e1-96fd-439f-b904-8553f01e72c1')\"\n",
              "              title=\"Convert this dataframe to an interactive table.\"\n",
              "              style=\"display:none;\">\n",
              "        \n",
              "  <svg xmlns=\"http://www.w3.org/2000/svg\" height=\"24px\"viewBox=\"0 0 24 24\"\n",
              "       width=\"24px\">\n",
              "    <path d=\"M0 0h24v24H0V0z\" fill=\"none\"/>\n",
              "    <path d=\"M18.56 5.44l.94 2.06.94-2.06 2.06-.94-2.06-.94-.94-2.06-.94 2.06-2.06.94zm-11 1L8.5 8.5l.94-2.06 2.06-.94-2.06-.94L8.5 2.5l-.94 2.06-2.06.94zm10 10l.94 2.06.94-2.06 2.06-.94-2.06-.94-.94-2.06-.94 2.06-2.06.94z\"/><path d=\"M17.41 7.96l-1.37-1.37c-.4-.4-.92-.59-1.43-.59-.52 0-1.04.2-1.43.59L10.3 9.45l-7.72 7.72c-.78.78-.78 2.05 0 2.83L4 21.41c.39.39.9.59 1.41.59.51 0 1.02-.2 1.41-.59l7.78-7.78 2.81-2.81c.8-.78.8-2.07 0-2.86zM5.41 20L4 18.59l7.72-7.72 1.47 1.35L5.41 20z\"/>\n",
              "  </svg>\n",
              "      </button>\n",
              "      \n",
              "  <style>\n",
              "    .colab-df-container {\n",
              "      display:flex;\n",
              "      flex-wrap:wrap;\n",
              "      gap: 12px;\n",
              "    }\n",
              "\n",
              "    .colab-df-convert {\n",
              "      background-color: #E8F0FE;\n",
              "      border: none;\n",
              "      border-radius: 50%;\n",
              "      cursor: pointer;\n",
              "      display: none;\n",
              "      fill: #1967D2;\n",
              "      height: 32px;\n",
              "      padding: 0 0 0 0;\n",
              "      width: 32px;\n",
              "    }\n",
              "\n",
              "    .colab-df-convert:hover {\n",
              "      background-color: #E2EBFA;\n",
              "      box-shadow: 0px 1px 2px rgba(60, 64, 67, 0.3), 0px 1px 3px 1px rgba(60, 64, 67, 0.15);\n",
              "      fill: #174EA6;\n",
              "    }\n",
              "\n",
              "    [theme=dark] .colab-df-convert {\n",
              "      background-color: #3B4455;\n",
              "      fill: #D2E3FC;\n",
              "    }\n",
              "\n",
              "    [theme=dark] .colab-df-convert:hover {\n",
              "      background-color: #434B5C;\n",
              "      box-shadow: 0px 1px 3px 1px rgba(0, 0, 0, 0.15);\n",
              "      filter: drop-shadow(0px 1px 2px rgba(0, 0, 0, 0.3));\n",
              "      fill: #FFFFFF;\n",
              "    }\n",
              "  </style>\n",
              "\n",
              "      <script>\n",
              "        const buttonEl =\n",
              "          document.querySelector('#df-de14e4e1-96fd-439f-b904-8553f01e72c1 button.colab-df-convert');\n",
              "        buttonEl.style.display =\n",
              "          google.colab.kernel.accessAllowed ? 'block' : 'none';\n",
              "\n",
              "        async function convertToInteractive(key) {\n",
              "          const element = document.querySelector('#df-de14e4e1-96fd-439f-b904-8553f01e72c1');\n",
              "          const dataTable =\n",
              "            await google.colab.kernel.invokeFunction('convertToInteractive',\n",
              "                                                     [key], {});\n",
              "          if (!dataTable) return;\n",
              "\n",
              "          const docLinkHtml = 'Like what you see? Visit the ' +\n",
              "            '<a target=\"_blank\" href=https://colab.research.google.com/notebooks/data_table.ipynb>data table notebook</a>'\n",
              "            + ' to learn more about interactive tables.';\n",
              "          element.innerHTML = '';\n",
              "          dataTable['output_type'] = 'display_data';\n",
              "          await google.colab.output.renderOutput(dataTable, element);\n",
              "          const docLink = document.createElement('div');\n",
              "          docLink.innerHTML = docLinkHtml;\n",
              "          element.appendChild(docLink);\n",
              "        }\n",
              "      </script>\n",
              "    </div>\n",
              "  </div>\n",
              "  "
            ]
          },
          "metadata": {},
          "execution_count": 64
        }
      ]
    },
    {
      "cell_type": "code",
      "execution_count": 65,
      "metadata": {
        "id": "t8h8dKlioom8"
      },
      "outputs": [],
      "source": [
        "dataset = dataset.drop(['Usia (tahun)','Klasifikasi','IMT (kg/m2)','Lama Kehamilan (hari)','Berat Lahir Bayi (kg)'], axis=1)"
      ]
    },
    {
      "cell_type": "code",
      "execution_count": 66,
      "metadata": {
        "colab": {
          "base_uri": "https://localhost:8080/"
        },
        "id": "J3ObHZ2DFrA_",
        "outputId": "88a32d53-a685-4bed-86e3-0a8886bc00ba"
      },
      "outputs": [
        {
          "output_type": "stream",
          "name": "stderr",
          "text": [
            "<ipython-input-66-c4b5f0ff3fb0>:3: FutureWarning: In a future version of pandas all arguments of DataFrame.drop except for the argument 'labels' will be keyword-only.\n",
            "  dataset = dataset.drop('Status',1)\n"
          ]
        }
      ],
      "source": [
        "#Output as labels\n",
        "Y = dataset['Status'].values.reshape(dataset.shape[0],)\n",
        "dataset = dataset.drop('Status',1)\n",
        "data = dataset.values\n",
        "#Input as features\n",
        "X = data[:,0:data.shape[1]]\n",
        "\n",
        "#Splitting the Data into Training (90%) and Testing (10%)\n",
        "X_train, X_test, y_train, Y_test = train_test_split(X, Y, test_size=0.1)"
      ]
    },
    {
      "cell_type": "code",
      "execution_count": 67,
      "metadata": {
        "colab": {
          "base_uri": "https://localhost:8080/"
        },
        "id": "r1auHT6Eod3e",
        "outputId": "ed98874f-1b8d-494c-f309-fdc2846ef606"
      },
      "outputs": [
        {
          "output_type": "stream",
          "name": "stdout",
          "text": [
            "First five elements in X_train are:\n",
            " [[ 1.6764   57.152592]\n",
            " [ 1.6764   79.3786  ]\n",
            " [ 1.5494   68.0388  ]\n",
            " [ 1.7018   67.131616]\n",
            " [ 1.4224   42.184056]]\n",
            "Type of X_train: <class 'numpy.ndarray'>\n"
          ]
        }
      ],
      "source": [
        "print(\"First five elements in X_train are:\\n\", X_train[:5])\n",
        "print(\"Type of X_train:\",type(X_train))"
      ]
    },
    {
      "cell_type": "code",
      "execution_count": 68,
      "metadata": {
        "colab": {
          "base_uri": "https://localhost:8080/"
        },
        "id": "b9jo1I5vogKR",
        "outputId": "547b4343-e051-46c2-d8b6-0ca51277e3c5"
      },
      "outputs": [
        {
          "output_type": "stream",
          "name": "stdout",
          "text": [
            "First five elements in y_train are:\n",
            " [0 0 0 0 1]\n",
            "Type of y_train: <class 'numpy.ndarray'>\n"
          ]
        }
      ],
      "source": [
        "print(\"First five elements in y_train are:\\n\", y_train[:5])\n",
        "print(\"Type of y_train:\",type(y_train))"
      ]
    },
    {
      "cell_type": "code",
      "execution_count": 69,
      "metadata": {
        "colab": {
          "base_uri": "https://localhost:8080/"
        },
        "id": "V7sUlFBQDw4L",
        "outputId": "dc4d01a2-5ffb-4e59-853a-cfdbeebd9228"
      },
      "outputs": [
        {
          "output_type": "stream",
          "name": "stdout",
          "text": [
            "The shape of X_train is: (1065, 2)\n",
            "The shape of y_train is: (1065,)\n",
            "We have m = 1065 training examples\n"
          ]
        }
      ],
      "source": [
        "#Check the dimensions of variables\n",
        "print(f'The shape of X_train is: {str(X_train.shape)}')\n",
        "print(f'The shape of y_train is: {str(y_train.shape)}')\n",
        "print(f'We have m = {len(y_train)} training examples')"
      ]
    },
    {
      "cell_type": "markdown",
      "metadata": {
        "id": "QOtmWuvCxYXT"
      },
      "source": [
        "#LOGISTIC REGRESSION"
      ]
    },
    {
      "cell_type": "code",
      "execution_count": 70,
      "metadata": {
        "id": "9ScONOPX9x89"
      },
      "outputs": [],
      "source": [
        "# Membentuk fungsi aktivasi sigmoid untuk membuat model\n",
        "def sigmoid(z):\n",
        "  g = 1/(1+np.exp(-z))\n",
        "  return g"
      ]
    },
    {
      "cell_type": "code",
      "execution_count": 71,
      "metadata": {
        "id": "IffwmSNuxlCb"
      },
      "outputs": [],
      "source": [
        "# Mendefinisikan fungsi cost untuk evaluasi\n",
        "def compute_cost(X, y, w, b, *argv):\n",
        "\n",
        "    m, n = X.shape\n",
        "    \n",
        "    cost = 0.0\n",
        "    for i in range(m):\n",
        "        z_i = np.dot(X[i],w) + b\n",
        "        f_wb_i = sigmoid(z_i)\n",
        "        cost +=  -y[i]*np.log(f_wb_i) - (1-y[i])*np.log(1-f_wb_i)\n",
        "             \n",
        "    total_cost = cost / m\n",
        "\n",
        "    return total_cost"
      ]
    },
    {
      "cell_type": "code",
      "execution_count": 72,
      "metadata": {
        "colab": {
          "base_uri": "https://localhost:8080/"
        },
        "id": "YEBsHkgZzy9g",
        "outputId": "91480c61-fc01-4238-cdef-0f87b8ddd367"
      },
      "outputs": [
        {
          "output_type": "stream",
          "name": "stdout",
          "text": [
            "Cost at initial w and b (zeros): 0.6931471805599296\n"
          ]
        }
      ],
      "source": [
        "m, n = X_train.shape\n",
        "\n",
        "initial_w = np.zeros(n).astype('float64')\n",
        "initial_b = 0.0\n",
        "cost = compute_cost(X_train, y_train, initial_w, initial_b)\n",
        "print('Cost at initial w and b (zeros): {}'.format(cost))"
      ]
    },
    {
      "cell_type": "code",
      "source": [
        "test_w = np.array([0.2, 0.2])\n",
        "test_b = -24.\n",
        "cost = compute_cost(X_train, y_train, test_w, test_b)\n",
        "\n",
        "print('Cost at test w and b (non-zeros): {:.3f}'.format(cost))"
      ],
      "metadata": {
        "colab": {
          "base_uri": "https://localhost:8080/"
        },
        "id": "WgsbCnxYGoF3",
        "outputId": "58281f3c-65e9-4188-838e-6134af1cc6cd"
      },
      "execution_count": 73,
      "outputs": [
        {
          "output_type": "stream",
          "name": "stdout",
          "text": [
            "Cost at test w and b (non-zeros): 0.044\n"
          ]
        }
      ]
    },
    {
      "cell_type": "code",
      "execution_count": 74,
      "metadata": {
        "id": "gL9PPPIGpJWP"
      },
      "outputs": [],
      "source": [
        "def compute_gradient(X, y, w, b, *argv): \n",
        "    m, n = X.shape\n",
        "    dj_dw = np.zeros(w.shape)\n",
        "    dj_db = 0.\n",
        "\n",
        "    for i in range(m):\n",
        "        z_wb = 0\n",
        "        for j in range(n): \n",
        "            z_wb += X[i, j] * w[j]\n",
        "        z_wb += b\n",
        "        f_wb = sigmoid(z_wb)\n",
        "        \n",
        "        dj_db_i = f_wb - y[i]\n",
        "        dj_db += dj_db_i\n",
        "        \n",
        "        for j in range(n):\n",
        "            dj_dw[j] += (f_wb - y[i]) * X[i][j]\n",
        "            \n",
        "    dj_dw = dj_dw/m\n",
        "    dj_db = dj_db/m\n",
        "        \n",
        "    return dj_db, dj_dw"
      ]
    },
    {
      "cell_type": "code",
      "execution_count": 75,
      "metadata": {
        "id": "Fb5-hSwKpovh"
      },
      "outputs": [],
      "source": [
        "def gradient_descent(X, y, w_in, b_in, cost_function, gradient_function, alpha, num_iters, lambda_): \n",
        "    \n",
        "    m = len(X)\n",
        "    J_history = []\n",
        "    w_history = []\n",
        "    \n",
        "    for i in range(num_iters):\n",
        "\n",
        "        dj_db, dj_dw = gradient_function(X, y, w_in, b_in, lambda_)   \n",
        "\n",
        "        w_in = w_in - alpha * dj_dw               \n",
        "        b_in = b_in - alpha * dj_db              \n",
        "       \n",
        "        if i<100000:      \n",
        "            cost =  cost_function(X, y, w_in, b_in, lambda_)\n",
        "            J_history.append(cost)\n",
        "        if i% math.ceil(num_iters/10) == 0 or i == (num_iters-1):\n",
        "            w_history.append(w_in)\n",
        "            print(f\"Iteration {i:4}: Cost {float(J_history[-1]):8.2f}   \")\n",
        "        \n",
        "    return w_in, b_in, J_history, w_history"
      ]
    },
    {
      "cell_type": "code",
      "execution_count": 76,
      "metadata": {
        "colab": {
          "base_uri": "https://localhost:8080/"
        },
        "id": "5C3eZAniqRuZ",
        "outputId": "0954535c-bca3-4de3-c987-e9321800346f"
      },
      "outputs": [
        {
          "output_type": "stream",
          "name": "stdout",
          "text": [
            "Iteration    0: Cost     6.71   \n",
            "Iteration  100: Cost     0.01   \n",
            "Iteration  200: Cost     0.01   \n",
            "Iteration  300: Cost     0.01   \n",
            "Iteration  400: Cost     0.01   \n",
            "Iteration  500: Cost     0.01   \n",
            "Iteration  600: Cost     0.01   \n",
            "Iteration  700: Cost     0.01   \n",
            "Iteration  800: Cost     0.01   \n",
            "Iteration  900: Cost     0.01   \n",
            "Iteration  999: Cost     0.01   \n"
          ]
        }
      ],
      "source": [
        "np.random.seed(1)\n",
        "initial_w = 0.01 * (np.random.rand(2) - 0.5)\n",
        "initial_b = 10\n",
        "\n",
        "iterations = 1000\n",
        "alpha = 0.001\n",
        "\n",
        "w,b, J_history,_ = gradient_descent(X_train ,y_train, initial_w, initial_b, \n",
        "                                   compute_cost, compute_gradient, alpha, iterations, 0)"
      ]
    },
    {
      "cell_type": "code",
      "execution_count": 77,
      "metadata": {
        "id": "TP1tWDvRHj8U"
      },
      "outputs": [],
      "source": [
        "def predict(X, w, b): \n",
        "  \n",
        "    m, n = X.shape   \n",
        "    p = np.zeros(m)\n",
        "   \n",
        "    for i in range(m):   \n",
        "        z_wb = 0\n",
        "        for j in range(n): \n",
        "            z_wb += X[i, j] * w[j]\n",
        "        \n",
        "        z_wb += b\n",
        "        \n",
        "        f_wb = sigmoid(z_wb)\n",
        "\n",
        "        p[i] = f_wb >= 0.5\n",
        "    return p"
      ]
    },
    {
      "cell_type": "code",
      "execution_count": 78,
      "metadata": {
        "id": "8bU94TiWIcXI",
        "colab": {
          "base_uri": "https://localhost:8080/"
        },
        "outputId": "f48814c1-657d-4973-8968-7ad02b89cb2a"
      },
      "outputs": [
        {
          "output_type": "stream",
          "name": "stdout",
          "text": [
            "Output of predict: shape (1,), value [0.]\n"
          ]
        }
      ],
      "source": [
        "# Tes model prediksi\n",
        "np.random.seed(1)\n",
        "tmp_w = np.random.randn(2)\n",
        "tmp_b = 0.3    \n",
        "tmp_X = np.array([[1.5, 36]]) - 0.5\n",
        "\n",
        "tmp_p = predict(tmp_X, tmp_w, tmp_b)\n",
        "print(f'Output of predict: shape {tmp_p.shape}, value {tmp_p}')"
      ]
    },
    {
      "cell_type": "code",
      "execution_count": 79,
      "metadata": {
        "colab": {
          "base_uri": "https://localhost:8080/"
        },
        "id": "8LTctkDnI7zF",
        "outputId": "f8d2f135-4344-4fd8-c902-cd76a08771a5"
      },
      "outputs": [
        {
          "output_type": "stream",
          "name": "stdout",
          "text": [
            "Train Accuracy: 99.718310\n"
          ]
        }
      ],
      "source": [
        "# Menghitung akurasi model prediksi\n",
        "p = predict(X_train, w,b)\n",
        "print('Train Accuracy: %f'%(np.mean(p == y_train) * 100))"
      ]
    },
    {
      "cell_type": "code",
      "source": [
        "import pickle\n",
        "\n",
        "with open(\"predict.pkl\", \"wb\") as file:\n",
        "  pickle.dump(predict, file)"
      ],
      "metadata": {
        "id": "rGjX7Ijsbwh7"
      },
      "execution_count": 80,
      "outputs": []
    }
  ],
  "metadata": {
    "colab": {
      "provenance": []
    },
    "kernelspec": {
      "display_name": "Python 3",
      "name": "python3"
    },
    "language_info": {
      "name": "python"
    }
  },
  "nbformat": 4,
  "nbformat_minor": 0
}